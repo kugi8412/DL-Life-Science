{
  "cells": [
    {
      "cell_type": "code",
      "execution_count": 1,
      "metadata": {
        "colab": {
          "base_uri": "https://localhost:8080/"
        },
        "id": "a5bHlQNzhFLU",
        "outputId": "391d9662-b166-4cc8-9c3b-03d98deaf6ca"
      },
      "outputs": [
        {
          "name": "stdout",
          "output_type": "stream",
          "text": [
            "Requirement already satisfied: scikit-learn in /home/envs/lic/lib/python3.12/site-packages (1.6.1)\n",
            "Requirement already satisfied: numpy>=1.19.5 in /home/envs/lic/lib/python3.12/site-packages (from scikit-learn) (2.0.2)\n",
            "Requirement already satisfied: scipy>=1.6.0 in /home/envs/lic/lib/python3.12/site-packages (from scikit-learn) (1.15.1)\n",
            "Requirement already satisfied: joblib>=1.2.0 in /home/envs/lic/lib/python3.12/site-packages (from scikit-learn) (1.4.2)\n",
            "Requirement already satisfied: threadpoolctl>=3.1.0 in /home/envs/lic/lib/python3.12/site-packages (from scikit-learn) (3.5.0)\n"
          ]
        }
      ],
      "source": [
        "!pip install scikit-learn"
      ]
    },
    {
      "cell_type": "code",
      "execution_count": 2,
      "metadata": {
        "colab": {
          "base_uri": "https://localhost:8080/"
        },
        "id": "Hh10di8IefaK",
        "outputId": "931dc7d8-abd8-42f1-f709-5bda3c8d7efc"
      },
      "outputs": [
        {
          "name": "stdout",
          "output_type": "stream",
          "text": [
            "Requirement already satisfied: tensorly in /home/envs/lic/lib/python3.12/site-packages (0.9.0)\n",
            "Requirement already satisfied: tensorly-torch in /home/envs/lic/lib/python3.12/site-packages (0.5.0)\n",
            "Requirement already satisfied: numpy in /home/envs/lic/lib/python3.12/site-packages (from tensorly) (2.0.2)\n",
            "Requirement already satisfied: scipy in /home/envs/lic/lib/python3.12/site-packages (from tensorly) (1.15.1)\n",
            "Note: you may need to restart the kernel to use updated packages.\n"
          ]
        }
      ],
      "source": [
        "pip install tensorly tensorly-torch"
      ]
    },
    {
      "cell_type": "code",
      "execution_count": 31,
      "metadata": {
        "id": "RDDbLyekYp_t"
      },
      "outputs": [],
      "source": [
        "import torch\n",
        "import torch.nn as nn\n",
        "import torch.nn.functional as F\n",
        "from torch.optim.lr_scheduler import ReduceLROnPlateau\n",
        "from torch.utils.data import Dataset, DataLoader\n",
        "import math\n",
        "import numpy as np\n",
        "import pandas as pd\n",
        "from sklearn.metrics import roc_auc_score, mean_squared_error, f1_score, precision_score, recall_score\n",
        "from tqdm.notebook import tqdm\n",
        "import matplotlib.pyplot as plt\n",
        "from transformers import AutoTokenizer, AutoModelForMaskedLM\n",
        "import random\n",
        "from sklearn.preprocessing import OneHotEncoder as Encoder\n",
        "from tltorch import TRL\n",
        "from collections import OrderedDict"
      ]
    },
    {
      "cell_type": "code",
      "execution_count": null,
      "metadata": {
        "id": "E8mh4ip8eRSR"
      },
      "outputs": [],
      "source": [
        "class Bilinear(nn.Module):\n",
        "    \"\"\"\n",
        "    Bilinear layer introduces pairwise product to a NN to model possible combinatorial effects.\n",
        "    This particular implementation attempts to leverage the number of parameters via low-rank tensor decompositions.\n",
        "\n",
        "    Parameters\n",
        "    ----------\n",
        "    n : int\n",
        "        Number of input features.\n",
        "    out : int, optional\n",
        "        Number of output features. If None, assumed to be equal to the number of input features. The default is None.\n",
        "    rank : float, optional\n",
        "        Fraction of maximal to rank to be used in tensor decomposition. The default is 0.05.\n",
        "    bias : bool, optional\n",
        "        If True, bias is used. The default is False.\n",
        "\n",
        "    \"\"\"\n",
        "    def __init__(self, n: int, out=None, rank=0.05, bias=False):\n",
        "        super().__init__()\n",
        "        if out is None:\n",
        "            out = (n, )\n",
        "        self.trl = TRL((n, n), out, bias=bias, rank=rank)\n",
        "        self.trl.weight = self.trl.weight.normal_(std=0.00075)\n",
        "\n",
        "    def forward(self, x):\n",
        "        x = x.unsqueeze(dim=-1)\n",
        "        return self.trl(x @ x.transpose(-1, -2))\n",
        "\n",
        "class Concater(nn.Module):\n",
        "    \"\"\"\n",
        "    Concatenates an output of some module with its input alongside some dimension.\n",
        "\n",
        "    Parameters\n",
        "    ----------\n",
        "    module : nn.Module\n",
        "        Module.\n",
        "    dim : int, optional\n",
        "        Dimension to concatenate along. The default is -1.\n",
        "\n",
        "    \"\"\"\n",
        "    def __init__(self, module: nn.Module, dim=-1):\n",
        "        super().__init__()\n",
        "        self.mod = module\n",
        "        self.dim = dim\n",
        "\n",
        "    def forward(self, x):\n",
        "        return torch.concat((x, self.mod(x)), dim=self.dim)\n",
        "\n",
        "class SELayer(nn.Module):\n",
        "    \"\"\"\n",
        "    Squeeze-and-Excite layer.\n",
        "\n",
        "    Parameters\n",
        "    ----------\n",
        "    inp : int\n",
        "        Middle layer size.\n",
        "    oup : int\n",
        "        Input and ouput size.\n",
        "    reduction : int, optional\n",
        "        Reduction parameter. The default is 4.\n",
        "\n",
        "    \"\"\"\n",
        "    def __init__(self, inp, oup, reduction=4):\n",
        "        super(SELayer, self).__init__()\n",
        "        self.avg_pool = nn.AdaptiveAvgPool1d(1)\n",
        "        self.fc = nn.Sequential(\n",
        "                nn.Linear(oup, int(inp // reduction)),\n",
        "                nn.SiLU(),\n",
        "                nn.Linear(int(inp // reduction), int(inp // reduction)),\n",
        "                Concater(Bilinear(int(inp // reduction), int(inp // reduction // 2), rank=0.5, bias=True)),\n",
        "                nn.SiLU(),\n",
        "                nn.Linear(int(inp // reduction) +  int(inp // reduction // 2), oup),\n",
        "                nn.Sigmoid()\n",
        "        )\n",
        "\n",
        "    def forward(self, x):\n",
        "        b, c, _, = x.size()\n",
        "        y = x.view(b, c, -1).mean(dim=2)\n",
        "        y = self.fc(y).view(b, c, 1)\n",
        "        return x * y\n",
        "\n",
        "class SeqNN(nn.Module):\n",
        "    \"\"\"\n",
        "    NoGINet neural network.\n",
        "\n",
        "    Parameters\n",
        "    ----------\n",
        "    seqsize : int\n",
        "        Sequence length.\n",
        "    use_single_channel : bool\n",
        "        If True, singleton channel is used.\n",
        "    block_sizes : list, optional\n",
        "        List containing block sizes. The default is [256, 256, 128, 128, 64, 64, 32, 32].\n",
        "    ks : int, optional\n",
        "        Kernel size of convolutional layers. The default is 5.\n",
        "    resize_factor : int, optional\n",
        "        Resize factor used in a high-dimensional middle layer of an EffNet-like block. The default is 4.\n",
        "    activation : nn.Module, optional\n",
        "        Activation function. The default is nn.SiLU.\n",
        "    filter_per_group : int, optional\n",
        "        Number of filters per group in a middle convolutiona layer of an EffNet-like block. The default is 2.\n",
        "    se_reduction : int, optional\n",
        "        Reduction number used in SELayer. The default is 4.\n",
        "    final_ch : int, optional\n",
        "        Number of channels in the final output convolutional channel. The default is 18.\n",
        "    bn_momentum : float, optional\n",
        "        BatchNorm momentum. The default is 0.1.\n",
        "\n",
        "    \"\"\"\n",
        "    __constants__ = ('resize_factor')\n",
        "\n",
        "    def __init__(self,\n",
        "                seqsize,\n",
        "                use_single_channel,\n",
        "                block_sizes=[256, 256, 128, 128, 64, 64, 32, 32],\n",
        "                ks=5,\n",
        "                resize_factor=4,\n",
        "                activation=nn.SiLU,\n",
        "                filter_per_group=2,\n",
        "                se_reduction=4,\n",
        "                final_ch=18,\n",
        "                bn_momentum=0.1,\n",
        "                to_extract=[], # indeksy warstw (oprócz ostatniej), których wyjścia wchodzą do klasyfikatora\n",
        "                pool_dim=4,\n",
        "                standalone=True):\n",
        "        super().__init__()\n",
        "        self.to_extract = to_extract\n",
        "        self.block_sizes = block_sizes\n",
        "        self.resize_factor = resize_factor\n",
        "        self.se_reduction = se_reduction\n",
        "        self.seqsize = seqsize\n",
        "        self.use_single_channel = use_single_channel\n",
        "        self.final_ch = final_ch\n",
        "        self.bn_momentum = bn_momentum\n",
        "        self.pool_dim = pool_dim\n",
        "        self.standalone = standalone\n",
        "        self.class_head = nn.Sequential(\n",
        "            nn.Linear((self.block_sizes[-1] + sum([block_sizes[i+1] for i in self.to_extract])) * self.pool_dim, 512),\n",
        "            nn.Dropout(0.3),\n",
        "            nn.SiLU(),\n",
        "            nn.Linear(512, 32),\n",
        "            nn.SiLU(),\n",
        "            nn.Linear(32, 1),\n",
        "            nn.Sigmoid()\n",
        "        )\n",
        "        self.reg_head = nn.Sequential(\n",
        "            nn.Linear(self.final_ch * self.seqsize, 1),\n",
        "        )\n",
        "        seqextblocks = OrderedDict()\n",
        "\n",
        "        block = nn.Sequential(\n",
        "                       nn.Conv1d(\n",
        "                            in_channels=6 if self.use_single_channel else 5,\n",
        "                            out_channels=block_sizes[0],\n",
        "                            kernel_size=ks,\n",
        "                            padding='same',\n",
        "                            bias=False\n",
        "                       ),\n",
        "                       nn.BatchNorm1d(block_sizes[0],\n",
        "                                     momentum=self.bn_momentum),\n",
        "                       activation()#Exponential(block_sizes[0]) #activation()\n",
        "        )\n",
        "        seqextblocks[f'blc0'] = block\n",
        "\n",
        "\n",
        "        for ind, (prev_sz, sz) in enumerate(zip(block_sizes[:-1], block_sizes[1:])):\n",
        "            block = nn.Sequential(\n",
        "                        #nn.Dropout(0.1),\n",
        "                        nn.Conv1d(\n",
        "                            in_channels=prev_sz,\n",
        "                            out_channels=sz * self.resize_factor,\n",
        "                            kernel_size=1,\n",
        "                            padding='same',\n",
        "                            bias=False\n",
        "                       ),\n",
        "                       nn.BatchNorm1d(sz * self.resize_factor,\n",
        "                                      momentum=self.bn_momentum),\n",
        "                       activation(), #Exponential(sz * self.resize_factor), #activation(),\n",
        "\n",
        "\n",
        "                       nn.Conv1d(\n",
        "                            in_channels=sz * self.resize_factor,\n",
        "                            out_channels=sz * self.resize_factor,\n",
        "                            kernel_size=ks,\n",
        "                            groups=sz * self.resize_factor // filter_per_group,\n",
        "                            padding='same',\n",
        "                            bias=False\n",
        "                       ),\n",
        "                       nn.BatchNorm1d(sz * self.resize_factor,\n",
        "                                      momentum=self.bn_momentum),\n",
        "                       activation(), #Exponential(sz * self.resize_factor), #activation(),\n",
        "                       SELayer(prev_sz, sz * self.resize_factor, reduction=self.se_reduction),\n",
        "                    #    nn.Dropout(0.1),\n",
        "                       nn.Conv1d(\n",
        "                            in_channels=sz * self.resize_factor,\n",
        "                            out_channels=prev_sz,\n",
        "                            kernel_size=1,\n",
        "                            padding='same',\n",
        "                            bias=False\n",
        "                       ),\n",
        "                       nn.BatchNorm1d(prev_sz,\n",
        "                                      momentum=self.bn_momentum),\n",
        "                       activation(), #Exponential(sz), #activation(),\n",
        "\n",
        "            )\n",
        "            seqextblocks[f'inv_res_blc{ind}'] = block\n",
        "            block = nn.Sequential(\n",
        "                        nn.Conv1d(\n",
        "                            in_channels=2 * prev_sz,\n",
        "                            out_channels=sz,\n",
        "                            kernel_size=ks,\n",
        "                             padding='same',\n",
        "                            bias=False\n",
        "                       ),\n",
        "                       nn.BatchNorm1d(sz,\n",
        "                                      momentum=self.bn_momentum),\n",
        "                       activation(),#Exponential(sz), #activation(),\n",
        "            )\n",
        "            seqextblocks[f'resize_blc{ind}'] = block\n",
        "\n",
        "\n",
        "\n",
        "        self.seqextractor = nn.ModuleDict(seqextblocks)\n",
        "\n",
        "        self.mapper =  block = nn.Sequential(\n",
        "                        nn.Dropout(0.1),\n",
        "                        nn.Conv1d(\n",
        "                            in_channels=block_sizes[-1],\n",
        "                            out_channels=self.final_ch,\n",
        "                            kernel_size=1,\n",
        "                            padding='same',\n",
        "                       ),\n",
        "                       activation()\n",
        "        )\n",
        "\n",
        "        self.register_buffer('bins', torch.arange(start=0, end=18, step=1, requires_grad=False))\n",
        "\n",
        "    def feature_extractor(self, x):\n",
        "        x = self.seqextractor['blc0'](x)\n",
        "        res_extract = []\n",
        "\n",
        "        for i in range(len(self.block_sizes) - 1):\n",
        "            x = torch.cat([x, self.seqextractor[f'inv_res_blc{i}'](x)], dim=1)\n",
        "            x = self.seqextractor[f'resize_blc{i}'](x)\n",
        "            if i in self.to_extract:\n",
        "                res_extract.append(x)\n",
        "        return x, res_extract\n",
        "\n",
        "    def forward(self, x):\n",
        "        f, ext = self.feature_extractor(x)\n",
        "        x = self.mapper(f) # w publikacji robili coś takiego, że wyjście na wyjściu z tej warstwy robili pooling do dim=1 i to traktowali jako logity do pseudo-klasyfikacji,\n",
        "        #                      ja to wyrzuciłem i jest zwykła warstwa liniowa\n",
        "        f = F.adaptive_max_pool1d(f, self.pool_dim).flatten(1) # poole potrzebne bo jest potężny overfitting\n",
        "        ext = [F.adaptive_max_pool1d(e, self.pool_dim).flatten(1) for e in ext]\n",
        "        f = torch.cat([f] + ext, dim=1)\n",
        "        if self.standalone:\n",
        "            out_class = self.class_head(f)\n",
        "            score = self.reg_head(x.flatten(1))\n",
        "            return out_class, score # class,reg\n",
        "        return x.flatten(1), f # reg,class\n"
      ]
    },
    {
      "cell_type": "code",
      "execution_count": 5,
      "metadata": {
        "id": "N9VeuFuMgIbe"
      },
      "outputs": [],
      "source": [
        "BATCH_SIZE = 32\n",
        "DEVICE = 'cuda' if torch.cuda.is_available() else 'cpu'\n",
        "EPOCHS = 20"
      ]
    },
    {
      "cell_type": "code",
      "execution_count": 6,
      "metadata": {
        "colab": {
          "base_uri": "https://localhost:8080/",
          "height": 408
        },
        "id": "KWEZPJonYvHU",
        "outputId": "1fc2ba04-ad8f-4f89-bace-18701bbb0772"
      },
      "outputs": [
        {
          "name": "stdout",
          "output_type": "stream",
          "text": [
            "--2025-04-16 21:51:48--  https://raw.githubusercontent.com/kugi8412/DL-Life-Science/refs/heads/main/train_data.tsv\n",
            "Resolving raw.githubusercontent.com (raw.githubusercontent.com)... 185.199.111.133, 185.199.110.133, 185.199.109.133, ...\n",
            "Connecting to raw.githubusercontent.com (raw.githubusercontent.com)|185.199.111.133|:443... connected.\n",
            "HTTP request sent, awaiting response... 200 OK\n",
            "Length: 13382819 (13M) [text/plain]\n",
            "Saving to: 'train_data.tsv'\n",
            "\n",
            "train_data.tsv      100%[===================>]  12.76M  4.09MB/s    in 3.1s    \n",
            "\n",
            "2025-04-16 21:51:52 (4.09 MB/s) - 'train_data.tsv' saved [13382819/13382819]\n",
            "\n"
          ]
        },
        {
          "data": {
            "text/html": [
              "<div>\n",
              "<style scoped>\n",
              "    .dataframe tbody tr th:only-of-type {\n",
              "        vertical-align: middle;\n",
              "    }\n",
              "\n",
              "    .dataframe tbody tr th {\n",
              "        vertical-align: top;\n",
              "    }\n",
              "\n",
              "    .dataframe thead th {\n",
              "        text-align: right;\n",
              "    }\n",
              "</style>\n",
              "<table border=\"1\" class=\"dataframe\">\n",
              "  <thead>\n",
              "    <tr style=\"text-align: right;\">\n",
              "      <th></th>\n",
              "      <th>insert_chrom</th>\n",
              "      <th>insert_name</th>\n",
              "      <th>sequence</th>\n",
              "      <th>rna_dna_ratio</th>\n",
              "      <th>is_active</th>\n",
              "    </tr>\n",
              "  </thead>\n",
              "  <tbody>\n",
              "    <tr>\n",
              "      <th>0</th>\n",
              "      <td>chr16</td>\n",
              "      <td>chr16:22572551-22572821</td>\n",
              "      <td>GTTCTCTATGCCATCTCACATTTATCCCCAAAGCCCAGGGAGGCTG...</td>\n",
              "      <td>1.179811</td>\n",
              "      <td>1</td>\n",
              "    </tr>\n",
              "    <tr>\n",
              "      <th>1</th>\n",
              "      <td>chr18</td>\n",
              "      <td>chr18:46761035-46761305</td>\n",
              "      <td>CAAAACATGGAGGTCTGAAGTCCCTTTTGTTCCTATCAGTATGGAG...</td>\n",
              "      <td>1.406439</td>\n",
              "      <td>1</td>\n",
              "    </tr>\n",
              "    <tr>\n",
              "      <th>2</th>\n",
              "      <td>chr1</td>\n",
              "      <td>chr1:209485218-209485488</td>\n",
              "      <td>TGTGGGAACAAGGAAGGAGTTAAGTTGGCATAAGCAGTTTAATAAG...</td>\n",
              "      <td>1.021255</td>\n",
              "      <td>0</td>\n",
              "    </tr>\n",
              "    <tr>\n",
              "      <th>3</th>\n",
              "      <td>chr3</td>\n",
              "      <td>chr3:45119427-45119697</td>\n",
              "      <td>TGCCCTATCTTGGATTCTGATTATGAGTCTCCGGGCAGCTGATGGC...</td>\n",
              "      <td>0.817915</td>\n",
              "      <td>0</td>\n",
              "    </tr>\n",
              "    <tr>\n",
              "      <th>4</th>\n",
              "      <td>chr14</td>\n",
              "      <td>chr14:51481635-51481905</td>\n",
              "      <td>GGTTTCCTTCGATCACCCAAGCTGGCTATTATTATCGTTCTTACAC...</td>\n",
              "      <td>0.756986</td>\n",
              "      <td>0</td>\n",
              "    </tr>\n",
              "  </tbody>\n",
              "</table>\n",
              "</div>"
            ],
            "text/plain": [
              "  insert_chrom               insert_name  \\\n",
              "0        chr16   chr16:22572551-22572821   \n",
              "1        chr18   chr18:46761035-46761305   \n",
              "2         chr1  chr1:209485218-209485488   \n",
              "3         chr3    chr3:45119427-45119697   \n",
              "4        chr14   chr14:51481635-51481905   \n",
              "\n",
              "                                            sequence  rna_dna_ratio  is_active  \n",
              "0  GTTCTCTATGCCATCTCACATTTATCCCCAAAGCCCAGGGAGGCTG...       1.179811          1  \n",
              "1  CAAAACATGGAGGTCTGAAGTCCCTTTTGTTCCTATCAGTATGGAG...       1.406439          1  \n",
              "2  TGTGGGAACAAGGAAGGAGTTAAGTTGGCATAAGCAGTTTAATAAG...       1.021255          0  \n",
              "3  TGCCCTATCTTGGATTCTGATTATGAGTCTCCGGGCAGCTGATGGC...       0.817915          0  \n",
              "4  GGTTTCCTTCGATCACCCAAGCTGGCTATTATTATCGTTCTTACAC...       0.756986          0  "
            ]
          },
          "execution_count": 6,
          "metadata": {},
          "output_type": "execute_result"
        }
      ],
      "source": [
        "!wget https://raw.githubusercontent.com/kugi8412/DL-Life-Science/refs/heads/main/train_data.tsv -O train_data.tsv\n",
        "\n",
        "df = pd.read_csv('train_data.tsv', sep='\\t')\n",
        "df.head()"
      ]
    },
    {
      "cell_type": "code",
      "execution_count": 7,
      "metadata": {
        "id": "m2O2YQZa5RHi"
      },
      "outputs": [],
      "source": [
        "val_chroms = ['chr10', 'chr11']\n",
        "train_df = df[~df['insert_chrom'].isin(val_chroms)]\n",
        "val_df = df[df['insert_chrom'].isin(val_chroms)]"
      ]
    },
    {
      "cell_type": "code",
      "execution_count": 8,
      "metadata": {
        "colab": {
          "base_uri": "https://localhost:8080/",
          "height": 718
        },
        "id": "ghKrsc0pZiwc",
        "outputId": "651475af-5a69-4188-b0af-708ef8c925f1"
      },
      "outputs": [
        {
          "name": "stderr",
          "output_type": "stream",
          "text": [
            "/tmp/ipykernel_3298/20267701.py:3: SettingWithCopyWarning: \n",
            "A value is trying to be set on a copy of a slice from a DataFrame.\n",
            "Try using .loc[row_indexer,col_indexer] = value instead\n",
            "\n",
            "See the caveats in the documentation: https://pandas.pydata.org/pandas-docs/stable/user_guide/indexing.html#returning-a-view-versus-a-copy\n",
            "  train_df.loc[:, 'insert_chrom_label'] = train_df['insert_chrom'].map(chrom_to_label)\n",
            "/tmp/ipykernel_3298/20267701.py:4: SettingWithCopyWarning: \n",
            "A value is trying to be set on a copy of a slice from a DataFrame.\n",
            "Try using .loc[row_indexer,col_indexer] = value instead\n",
            "\n",
            "See the caveats in the documentation: https://pandas.pydata.org/pandas-docs/stable/user_guide/indexing.html#returning-a-view-versus-a-copy\n",
            "  val_df.loc[:, 'insert_chrom_label'] = val_df['insert_chrom'].map(chrom_to_label)\n"
          ]
        },
        {
          "data": {
            "image/png": "[encoded data removed]",
            "text/plain": [
              "<Figure size 640x480 with 1 Axes>"
            ]
          },
          "metadata": {},
          "output_type": "display_data"
        }
      ],
      "source": [
        "chrom_to_label = {chrom: i for i, chrom in enumerate(np.unique(np.concatenate([train_df['insert_chrom'], val_df['insert_chrom']])))}\n",
        "\n",
        "train_df.loc[:, 'insert_chrom_label'] = train_df['insert_chrom'].map(chrom_to_label)\n",
        "val_df.loc[:, 'insert_chrom_label'] = val_df['insert_chrom'].map(chrom_to_label)\n",
        "bins = np.histogram_bin_edges(np.concatenate([train_df['insert_chrom_label'], val_df['insert_chrom_label']]), bins=24)\n",
        "\n",
        "plt.hist(train_df['insert_chrom_label'], bins=bins, alpha=0.5, label='train_df')\n",
        "plt.hist(val_df['insert_chrom_label'], bins=bins, alpha=0.5, color='red', label='val_df')\n",
        "plt.xlabel('insert_chrom')\n",
        "plt.ylabel('Frequency')\n",
        "plt.title('Distribution of insert_chrom')\n",
        "plt.xticks(ticks=range(len(chrom_to_label)), labels=chrom_to_label.keys(), rotation=90, ha='right')\n",
        "plt.legend(loc='upper right')\n",
        "plt.show()"
      ]
    },
    {
      "cell_type": "code",
      "execution_count": 9,
      "metadata": {
        "colab": {
          "base_uri": "https://localhost:8080/",
          "height": 448
        },
        "id": "jnUyARtLaJZA",
        "outputId": "84d91a17-7107-46ac-c9ff-3278efa6b6c0"
      },
      "outputs": [
        {
          "data": {
            "text/plain": [
              "<Axes: >"
            ]
          },
          "execution_count": 9,
          "metadata": {},
          "output_type": "execute_result"
        },
        {
          "data": {
            "image/png": "[encoded data removed]",
            "text/plain": [
              "<Figure size 640x480 with 1 Axes>"
            ]
          },
          "metadata": {},
          "output_type": "display_data"
        }
      ],
      "source": [
        "# Dataset are balnced\n",
        "df['is_active'].hist()"
      ]
    },
    {
      "cell_type": "code",
      "execution_count": 10,
      "metadata": {
        "colab": {
          "base_uri": "https://localhost:8080/",
          "height": 448
        },
        "id": "lMqP3rLI5L3Q",
        "outputId": "0b89b0ac-e17f-4146-ae5c-81a233df5110"
      },
      "outputs": [
        {
          "data": {
            "text/plain": [
              "<Axes: >"
            ]
          },
          "execution_count": 10,
          "metadata": {},
          "output_type": "execute_result"
        },
        {
          "data": {
            "image/png": "[encoded data removed]",
            "text/plain": [
              "<Figure size 640x480 with 1 Axes>"
            ]
          },
          "metadata": {},
          "output_type": "display_data"
        }
      ],
      "source": [
        "train_df['is_active'].hist()"
      ]
    },
    {
      "cell_type": "code",
      "execution_count": 11,
      "metadata": {
        "colab": {
          "base_uri": "https://localhost:8080/",
          "height": 448
        },
        "id": "Qe1btkSR5W3l",
        "outputId": "bbb341f9-231b-4b54-cd70-c6c332e92a0d"
      },
      "outputs": [
        {
          "data": {
            "text/plain": [
              "<Axes: >"
            ]
          },
          "execution_count": 11,
          "metadata": {},
          "output_type": "execute_result"
        },
        {
          "data": {
            "image/png": "[encoded data removed]",
            "text/plain": [
              "<Figure size 640x480 with 1 Axes>"
            ]
          },
          "metadata": {},
          "output_type": "display_data"
        }
      ],
      "source": [
        "val_df['is_active'].hist()"
      ]
    },
    {
      "cell_type": "code",
      "execution_count": 12,
      "metadata": {
        "colab": {
          "base_uri": "https://localhost:8080/",
          "height": 448
        },
        "id": "94k0WPrIaP1d",
        "outputId": "c7811c4d-9a9f-4398-9b7d-aa993de207c6"
      },
      "outputs": [
        {
          "data": {
            "text/plain": [
              "<Axes: >"
            ]
          },
          "execution_count": 12,
          "metadata": {},
          "output_type": "execute_result"
        },
        {
          "data": {
            "image/png": "[encoded data removed]",
            "text/plain": [
              "<Figure size 640x480 with 1 Axes>"
            ]
          },
          "metadata": {},
          "output_type": "display_data"
        }
      ],
      "source": [
        "# Histogram of continous values\n",
        "df['rna_dna_ratio'].hist(bins=30)"
      ]
    },
    {
      "cell_type": "code",
      "execution_count": 13,
      "metadata": {
        "colab": {
          "base_uri": "https://localhost:8080/",
          "height": 448
        },
        "id": "phONlGkP5fWy",
        "outputId": "991009dd-4a1e-457d-edf2-4097a62db627"
      },
      "outputs": [
        {
          "data": {
            "text/plain": [
              "<Axes: >"
            ]
          },
          "execution_count": 13,
          "metadata": {},
          "output_type": "execute_result"
        },
        {
          "data": {
            "image/png": "[encoded data removed]",
            "text/plain": [
              "<Figure size 640x480 with 1 Axes>"
            ]
          },
          "metadata": {},
          "output_type": "display_data"
        }
      ],
      "source": [
        "train_df['rna_dna_ratio'].hist(bins=30)"
      ]
    },
    {
      "cell_type": "code",
      "execution_count": 14,
      "metadata": {
        "colab": {
          "base_uri": "https://localhost:8080/",
          "height": 448
        },
        "id": "lL7gC2G_5ft8",
        "outputId": "e5aa7cdc-2ce9-45cc-857d-58a5901c1140"
      },
      "outputs": [
        {
          "data": {
            "text/plain": [
              "<Axes: >"
            ]
          },
          "execution_count": 14,
          "metadata": {},
          "output_type": "execute_result"
        },
        {
          "data": {
            "image/png": "[encoded data removed]",
            "text/plain": [
              "<Figure size 640x480 with 1 Axes>"
            ]
          },
          "metadata": {},
          "output_type": "display_data"
        }
      ],
      "source": [
        "val_df['rna_dna_ratio'].hist(bins=30)"
      ]
    },
    {
      "cell_type": "code",
      "execution_count": 15,
      "metadata": {
        "colab": {
          "base_uri": "https://localhost:8080/"
        },
        "id": "OOSVk-GLaihh",
        "outputId": "2ec22b96-f029-4fce-c17d-269927098fd1"
      },
      "outputs": [
        {
          "name": "stdout",
          "output_type": "stream",
          "text": [
            "[271]\n"
          ]
        }
      ],
      "source": [
        "# Sanity check of sequence length\n",
        "df['sequence_length'] = df['sequence'].apply(len)\n",
        "print(df['sequence_length'].unique())"
      ]
    },
    {
      "cell_type": "code",
      "execution_count": 16,
      "metadata": {
        "id": "zaeB98nIcm_4"
      },
      "outputs": [],
      "source": [
        "class OHEncoder:\n",
        "    def __init__(self, categories=np.array(['A', 'C', 'G', 'T'])):\n",
        "        self.encoder = Encoder(sparse_output=False, categories=[categories])\n",
        "        self.dictionary = categories\n",
        "        self.encoder.fit(categories.reshape(-1, 1))\n",
        "\n",
        "    def __call__(self, seq, info=False):\n",
        "        seq = list(seq)\n",
        "        # Jeśli w sekwencji występuje znak 'N', w naszych danych nie ma, ale może być\n",
        "        if 'N' in seq:\n",
        "            pos = [i for i, el in enumerate(seq) if el == 'N']\n",
        "            for p in pos:\n",
        "                seq[p] = random.choice(self.dictionary)\n",
        "\n",
        "        s = np.array(seq).reshape(-1, 1)\n",
        "        encoded = self.encoder.transform(s).T  # wynik: macierz (4, seq_len)\n",
        "        return torch.tensor(encoded).unsqueeze(0).unsqueeze(0).float()"
      ]
    },
    {
      "cell_type": "code",
      "execution_count": 17,
      "metadata": {
        "id": "DKNxoSfMfcvh"
      },
      "outputs": [],
      "source": [
        "class CustomCNNEncoder(nn.Module):\n",
        "    def __init__(self, seq_len=271, num_channels=[100, 50, 50], kernel_widths=[9, 7, 3],\n",
        "                 pooling_widths=[3, 4, 4], num_units=[2000, 64], dropout=0.75):\n",
        "        \"\"\" Ta sieć przetwarza 2D one-hot zakodowaną sekwencję.\n",
        "        Wynik (wektor cech) ma wymiar num_units[-1].\n",
        "        \"\"\"\n",
        "        super(CustomCNNEncoder, self).__init__()\n",
        "        paddings = [int((w - 1) / 2) for w in kernel_widths]\n",
        "        self.seq_len = seq_len\n",
        "\n",
        "        conv_modules = []\n",
        "        # Wejście: jeden kanał (obraz o rozmiarze 1 x (4, seq_len))\n",
        "        num_channels_in = [1] + num_channels\n",
        "        for num, (in_chan, out_chan, kernel, padding, pool) in \\\n",
        "                enumerate(zip(num_channels_in[:-1], num_channels_in[1:], kernel_widths, paddings, pooling_widths)):\n",
        "            k = 4 if num == 0 else 1\n",
        "            conv_modules += [\n",
        "                nn.Conv2d(in_chan, out_chan, kernel_size=(k, kernel), padding=(0, padding)),\n",
        "                nn.BatchNorm2d(out_chan),\n",
        "                nn.ReLU(),\n",
        "                nn.MaxPool2d(kernel_size=(1, pool), ceil_mode=True)\n",
        "            ]\n",
        "            seq_len = math.ceil(seq_len / pool)\n",
        "        self.conv_layers = nn.Sequential(*conv_modules)\n",
        "        self.conv_out_size = 1 * seq_len * num_channels_in[-1]\n",
        "\n",
        "        # Wspólna głowica FC – ekstraktor cech\n",
        "        fc_layers = []\n",
        "        num_units_fc = [self.conv_out_size] + num_units\n",
        "        for in_units, out_units in zip(num_units_fc[:-1], num_units_fc[1:]):\n",
        "            fc_layers += [nn.Linear(in_units, out_units), nn.ReLU(), nn.Dropout(p=dropout)]\n",
        "        self.fc_shared = nn.Sequential(*fc_layers)\n",
        "\n",
        "    def forward(self, x):\n",
        "        # x: tensor o kształcie (B, 1, 4, seq_len)\n",
        "        x = self.conv_layers(x)\n",
        "        x = x.view(x.size(0), -1)\n",
        "        feat = self.fc_shared(x)\n",
        "        return feat  # [B, 64]"
      ]
    },
    {
      "cell_type": "code",
      "execution_count": 18,
      "metadata": {
        "id": "fl3sFiyrfm5T"
      },
      "outputs": [],
      "source": [
        "class NucleotideEmbedding(nn.Module):\n",
        "    def __init__(self, model_name='InstaDeepAI/nucleotide-transformer-v2-100m-multi-species'):\n",
        "        super().__init__()\n",
        "        self.tokenizer = AutoTokenizer.from_pretrained(model_name)\n",
        "        self.model = AutoModelForMaskedLM.from_pretrained(model_name)\n",
        "        self.hidden_size = self.model.config.hidden_size\n",
        "\n",
        "    def forward(self, seq_list):\n",
        "        tokens = self.tokenizer(seq_list, return_tensors='pt', padding=True, truncation=True)\n",
        "        tokens = {k: v.to(DEVICE) for k, v in tokens.items()}\n",
        "        with torch.no_grad():\n",
        "            outputs = self.model(**tokens)\n",
        "\n",
        "        # Check if hidden_states is present and not None\n",
        "        if outputs.hidden_states is not None:\n",
        "            embeddings = outputs.hidden_states[-1].mean(dim=1)\n",
        "        else:\n",
        "            embeddings = torch.zeros(len(seq_list), self.hidden_size, device=DEVICE)\n",
        "\n",
        "        return embeddings"
      ]
    },
    {
      "cell_type": "code",
      "execution_count": 19,
      "metadata": {
        "id": "BKI0eK0ymUma"
      },
      "outputs": [],
      "source": [
        "class CombinedModel(nn.Module):\n",
        "    def __init__(self, seq_len: int):\n",
        "        \"\"\" Model łączy dwa źródła cech:\n",
        "         - Cecha z Nucleotide Transformer – wejście: surowa sekwencja jako str\n",
        "         - Cecha z CustomCNNEncoder – wejście: tensor o kształcie (1, 4, seq_len)\n",
        "        Następnie cechy są scalane i przekazywane:\n",
        "         - Klasyfikacyjnej – is_active (binarna)\n",
        "         - Regresyjnej – rna_dna_ratio (ciągła)\n",
        "        \"\"\"\n",
        "        super(CombinedModel, self).__init__()\n",
        "        self.nt_transformer = NucleotideEmbedding()  # TRANSFER LEARNIG DO POTENCJALNEJ ZMIANY\n",
        "        # self.cnn_encoder = CustomCNNEncoder(seq_len=seq_len)  # one-hot encoder oparty na CNN\n",
        "        self.cnn_encoder = SeqNN(\n",
        "            seqsize=271,\n",
        "            use_single_channel=True,\n",
        "            block_sizes=[256, 128, 128, 64, 64, 64, 64],\n",
        "            ks=7,\n",
        "            resize_factor=4,\n",
        "            se_reduction=4,\n",
        "            final_ch=18,\n",
        "            to_extract=[0],\n",
        "            pool_dim=4,\n",
        "            standalone=False\n",
        "        ).to(DEVICE)\n",
        "        self.cnn_encoder.load_state_dict(torch.load(\"/mnt/e/Pobrane/model_150.pth\", map_location=DEVICE), strict=False)\n",
        "\n",
        "        # Wymiar cech: nt_transformer.hidden_size + shape CNN (64)\n",
        "        # fused_dim = self.nt_transformer.hidden_size + 64\n",
        "        # self.classifier = nn.Linear((128+64)*4 + self.nt_transformer.hidden_size, 1)\n",
        "        self.classifier = nn.Sequential(\n",
        "            nn.Linear((sum([self.cnn_encoder.block_sizes[i+1] for i in self.cnn_encoder.to_extract])+self.cnn_encoder.block_sizes[-1])*self.cnn_encoder.pool_dim + self.nt_transformer.hidden_size, 512),\n",
        "            nn.Dropout(0.3),\n",
        "            nn.SiLU(),\n",
        "            nn.Linear(512, 32),\n",
        "            nn.SiLU(),\n",
        "            nn.Linear(32, 1),\n",
        "            nn.Sigmoid()\n",
        "        )\n",
        "        self.regressor = nn.Linear(self.cnn_encoder.seqsize*self.cnn_encoder.final_ch + self.nt_transformer.hidden_size, 1)\n",
        "\n",
        "    def forward(self, raw_seq_list, oh_tensor):\n",
        "        nt_features = self.nt_transformer(raw_seq_list)  # (B, hidden_size)\n",
        "        cnn_features_reg, cnn_features_class = self.cnn_encoder(oh_tensor)\n",
        "\n",
        "        # fused = torch.cat([nt_features, cnn_features], dim=1)\n",
        "        out_cls = torch.sigmoid(self.classifier(torch.cat([nt_features, cnn_features_class], dim=1)))\n",
        "        out_reg = self.regressor(torch.cat([nt_features, cnn_features_reg], dim=1))\n",
        "        return out_cls, out_reg"
      ]
    },
    {
      "cell_type": "code",
      "execution_count": 20,
      "metadata": {
        "id": "0MyPg3GdfuCX"
      },
      "outputs": [],
      "source": [
        "class SequenceDataset(Dataset):\n",
        "    def __init__(self, df, oh_encoder):\n",
        "        \"\"\" df powinno zawierać kolumny:\n",
        "          - sequence\n",
        "          - rna_dna_ratio\n",
        "          - is_active\n",
        "        \"\"\"\n",
        "        self.df = df.reset_index(drop=True)\n",
        "        self.oh_encoder = oh_encoder\n",
        "\n",
        "    def __len__(self):\n",
        "        return len(self.df)\n",
        "\n",
        "    def __getitem__(self, idx):\n",
        "        row = self.df.iloc[idx]\n",
        "        seq = row['sequence']  # sekwencja jako str\n",
        "        oh = self.oh_encoder(seq)  # tensor (1, 4, seq_len)\n",
        "        if oh is None:\n",
        "            return None\n",
        "        label_cls = float(row['is_active'])\n",
        "        label_reg = float(row['rna_dna_ratio'])\n",
        "        return seq, oh, torch.tensor(label_cls, dtype=torch.float32), torch.tensor(label_reg, dtype=torch.float32)\n",
        "\n",
        "def collate_fn(batch):\n",
        "    # Usuwamy próbki None\n",
        "    batch = [item for item in batch if item is not None]\n",
        "    if len(batch) == 0:\n",
        "        return None\n",
        "    raw_seqs, oh_list, y_cls, y_reg = zip(*batch)\n",
        "    oh_tensor = torch.cat(oh_list, dim=0)  # kształt: (B, 1, 4, seq_len)\n",
        "    y_cls = torch.stack(y_cls)\n",
        "    y_reg = torch.stack(y_reg)\n",
        "    return list(raw_seqs), oh_tensor, y_cls, y_reg"
      ]
    },
    {
      "cell_type": "code",
      "execution_count": 21,
      "metadata": {
        "id": "VOwSmG2If7gK"
      },
      "outputs": [],
      "source": [
        "oh_encoder = OHEncoder()\n",
        "train_dataset = SequenceDataset(train_df, oh_encoder)\n",
        "val_dataset = SequenceDataset(val_df, oh_encoder)\n",
        "\n",
        "train_loader = DataLoader(train_dataset, batch_size=BATCH_SIZE, shuffle=True, collate_fn=collate_fn)\n",
        "val_loader = DataLoader(val_dataset, batch_size=BATCH_SIZE, collate_fn=collate_fn)"
      ]
    },
    {
      "cell_type": "code",
      "execution_count": null,
      "metadata": {
        "collapsed": true,
        "id": "slsBLpAuhJvN"
      },
      "outputs": [
        {
          "name": "stderr",
          "output_type": "stream",
          "text": [
            "2025-04-16 21:52:01.933302: E external/local_xla/xla/stream_executor/cuda/cuda_fft.cc:477] Unable to register cuFFT factory: Attempting to register factory for plugin cuFFT when one has already been registered\n",
            "WARNING: All log messages before absl::InitializeLog() is called are written to STDERR\n",
            "E0000 00:00:1744836721.947688    3298 cuda_dnn.cc:8310] Unable to register cuDNN factory: Attempting to register factory for plugin cuDNN when one has already been registered\n",
            "E0000 00:00:1744836721.951871    3298 cuda_blas.cc:1418] Unable to register cuBLAS factory: Attempting to register factory for plugin cuBLAS when one has already been registered\n",
            "2025-04-16 21:52:01.966283: I tensorflow/core/platform/cpu_feature_guard.cc:210] This TensorFlow binary is optimized to use available CPU instructions in performance-critical operations.\n",
            "To enable the following instructions: AVX2 FMA, in other operations, rebuild TensorFlow with the appropriate compiler flags.\n",
            "/tmp/ipykernel_3298/850706063.py:25: FutureWarning: You are using `torch.load` with `weights_only=False` (the current default value), which uses the default pickle module implicitly. It is possible to construct malicious pickle data which will execute arbitrary code during unpickling (See https://github.com/pytorch/pytorch/blob/main/SECURITY.md#untrusted-models for more details). In a future release, the default value for `weights_only` will be flipped to `True`. This limits the functions that could be executed during unpickling. Arbitrary objects will no longer be allowed to be loaded via this mode unless they are explicitly allowlisted by the user via `torch.serialization.add_safe_globals`. We recommend you start setting `weights_only=True` for any use case where you don't have full control of the loaded file. Please open an issue on GitHub for any issues related to this experimental feature.\n",
            "  self.cnn_encoder.load_state_dict(torch.load(\"/mnt/e/Pobrane/model_150.pth\", map_location=DEVICE), strict=False)\n"
          ]
        }
      ],
      "source": [
        "# model = CombinedModel(seq_len=271).to(DEVICE)\n",
        "# optimizer = torch.optim.Adam(model.parameters(), lr=1e-4)\n",
        "# criterion_cls = nn.BCELoss()\n",
        "# criterion_reg = nn.MSELoss()\n",
        "# scheduler = ReduceLROnPlateau(optimizer, mode='min', patience=2)\n",
        "\n",
        "\n",
        "# train_losses = []\n",
        "# val_losses = []"
      ]
    },
    {
      "cell_type": "code",
      "execution_count": 44,
      "metadata": {
        "id": "PTHeLGUHeRSo"
      },
      "outputs": [
        {
          "name": "stderr",
          "output_type": "stream",
          "text": [
            "/tmp/ipykernel_3298/1512007163.py:13: FutureWarning: You are using `torch.load` with `weights_only=False` (the current default value), which uses the default pickle module implicitly. It is possible to construct malicious pickle data which will execute arbitrary code during unpickling (See https://github.com/pytorch/pytorch/blob/main/SECURITY.md#untrusted-models for more details). In a future release, the default value for `weights_only` will be flipped to `True`. This limits the functions that could be executed during unpickling. Arbitrary objects will no longer be allowed to be loaded via this mode unless they are explicitly allowlisted by the user via `torch.serialization.add_safe_globals`. We recommend you start setting `weights_only=True` for any use case where you don't have full control of the loaded file. Please open an issue on GitHub for any issues related to this experimental feature.\n",
            "  model.load_state_dict(torch.load(\"/mnt/e/Pobrane/model_150.pth\", map_location=DEVICE), strict=False)\n"
          ]
        }
      ],
      "source": [
        "model = SeqNN(\n",
        "    seqsize=271,\n",
        "    use_single_channel=True,\n",
        "    block_sizes= [256, 128, 128, 64, 64, 64, 64],\n",
        "    ks=7,\n",
        "    resize_factor=4,\n",
        "    se_reduction=4,\n",
        "    final_ch=18,\n",
        "    to_extract = [0],\n",
        "    pool_dim=3,\n",
        "    standalone=True\n",
        ").to(DEVICE)\n",
        "model.load_state_dict(torch.load(\"/mnt/e/Pobrane/model_150.pth\", map_location=DEVICE), strict=False)\n",
        "optimizer = torch.optim.AdamW(model.parameters(), lr=1e-4, weight_decay=1)\n",
        "criterion_cls = nn.BCELoss()\n",
        "criterion_reg = nn.MSELoss()\n",
        "scheduler = torch.optim.lr_scheduler.ReduceLROnPlateau(\n",
        "    optimizer,\n",
        "    mode = 'min',\n",
        "    factor = 0.3,\n",
        "    patience = 1,\n",
        ")\n",
        "\n",
        "\n",
        "train_losses = []\n",
        "val_losses = []"
      ]
    },
    {
      "cell_type": "code",
      "execution_count": 24,
      "metadata": {
        "colab": {
          "base_uri": "https://localhost:8080/"
        },
        "collapsed": true,
        "id": "ODWDVeUeeRSp",
        "outputId": "5de31466-f17c-4c7e-93a6-9a550eb2b777"
      },
      "outputs": [
        {
          "name": "stdout",
          "output_type": "stream",
          "text": [
            "CombinedModel(\n",
            "  (nt_transformer): NucleotideEmbedding(\n",
            "    (model): EsmForMaskedLM(\n",
            "      (esm): EsmModel(\n",
            "        (embeddings): EsmEmbeddings(\n",
            "          (word_embeddings): Embedding(4107, 512, padding_idx=1)\n",
            "          (dropout): Dropout(p=0.0, inplace=False)\n",
            "          (position_embeddings): Embedding(2050, 512, padding_idx=1)\n",
            "        )\n",
            "        (encoder): EsmEncoder(\n",
            "          (layer): ModuleList(\n",
            "            (0-21): 22 x EsmLayer(\n",
            "              (attention): EsmAttention(\n",
            "                (self): EsmSelfAttention(\n",
            "                  (query): Linear(in_features=512, out_features=512, bias=True)\n",
            "                  (key): Linear(in_features=512, out_features=512, bias=True)\n",
            "                  (value): Linear(in_features=512, out_features=512, bias=True)\n",
            "                  (dropout): Dropout(p=0.0, inplace=False)\n",
            "                  (rotary_embeddings): RotaryEmbedding()\n",
            "                )\n",
            "                (output): EsmSelfOutput(\n",
            "                  (dense): Linear(in_features=512, out_features=512, bias=True)\n",
            "                  (dropout): Dropout(p=0.0, inplace=False)\n",
            "                )\n",
            "                (LayerNorm): LayerNorm((512,), eps=1e-12, elementwise_affine=True)\n",
            "              )\n",
            "              (intermediate): EsmIntermediate(\n",
            "                (dense): Linear(in_features=512, out_features=4096, bias=False)\n",
            "                (activation_fn): SiLU()\n",
            "              )\n",
            "              (output): EsmOutput(\n",
            "                (dense): Linear(in_features=2048, out_features=512, bias=False)\n",
            "                (dropout): Dropout(p=0.0, inplace=False)\n",
            "              )\n",
            "              (LayerNorm): LayerNorm((512,), eps=1e-12, elementwise_affine=True)\n",
            "            )\n",
            "          )\n",
            "          (emb_layer_norm_after): LayerNorm((512,), eps=1e-12, elementwise_affine=True)\n",
            "        )\n",
            "        (contact_head): EsmContactPredictionHead(\n",
            "          (regression): Linear(in_features=352, out_features=1, bias=True)\n",
            "          (activation): Sigmoid()\n",
            "        )\n",
            "      )\n",
            "      (lm_head): EsmLMHead(\n",
            "        (dense): Linear(in_features=512, out_features=512, bias=True)\n",
            "        (layer_norm): LayerNorm((512,), eps=1e-12, elementwise_affine=True)\n",
            "        (decoder): Linear(in_features=512, out_features=4107, bias=False)\n",
            "      )\n",
            "    )\n",
            "  )\n",
            "  (cnn_encoder): SeqNN(\n",
            "    (class_head): Sequential(\n",
            "      (0): Linear(in_features=768, out_features=512, bias=True)\n",
            "      (1): Dropout(p=0.3, inplace=False)\n",
            "      (2): SiLU()\n",
            "      (3): Linear(in_features=512, out_features=32, bias=True)\n",
            "      (4): SiLU()\n",
            "      (5): Linear(in_features=32, out_features=1, bias=True)\n",
            "      (6): Sigmoid()\n",
            "    )\n",
            "    (reg_head): Sequential(\n",
            "      (0): Linear(in_features=4878, out_features=1, bias=True)\n",
            "    )\n",
            "    (seqextractor): ModuleDict(\n",
            "      (blc0): Sequential(\n",
            "        (0): Conv1d(6, 256, kernel_size=(7,), stride=(1,), padding=same, bias=False)\n",
            "        (1): BatchNorm1d(256, eps=1e-05, momentum=0.1, affine=True, track_running_stats=True)\n",
            "        (2): SiLU()\n",
            "      )\n",
            "      (inv_res_blc0): Sequential(\n",
            "        (0): Conv1d(256, 512, kernel_size=(1,), stride=(1,), padding=same, bias=False)\n",
            "        (1): BatchNorm1d(512, eps=1e-05, momentum=0.1, affine=True, track_running_stats=True)\n",
            "        (2): SiLU()\n",
            "        (3): Conv1d(512, 512, kernel_size=(7,), stride=(1,), padding=same, groups=256, bias=False)\n",
            "        (4): BatchNorm1d(512, eps=1e-05, momentum=0.1, affine=True, track_running_stats=True)\n",
            "        (5): SiLU()\n",
            "        (6): SELayer(\n",
            "          (avg_pool): AdaptiveAvgPool1d(output_size=1)\n",
            "          (fc): Sequential(\n",
            "            (0): Linear(in_features=512, out_features=64, bias=True)\n",
            "            (1): SiLU()\n",
            "            (2): Linear(in_features=64, out_features=64, bias=True)\n",
            "            (3): Concater(\n",
            "              (mod): Bilinear(\n",
            "                (trl): TRL(\n",
            "                  (weight): CPTensor(shape=(64, 64, 32), rank=410)\n",
            "                )\n",
            "              )\n",
            "            )\n",
            "            (4): SiLU()\n",
            "            (5): Linear(in_features=96, out_features=512, bias=True)\n",
            "            (6): Sigmoid()\n",
            "          )\n",
            "        )\n",
            "        (7): Conv1d(512, 256, kernel_size=(1,), stride=(1,), padding=same, bias=False)\n",
            "        (8): BatchNorm1d(256, eps=1e-05, momentum=0.1, affine=True, track_running_stats=True)\n",
            "        (9): SiLU()\n",
            "      )\n",
            "      (resize_blc0): Sequential(\n",
            "        (0): Conv1d(512, 128, kernel_size=(7,), stride=(1,), padding=same, bias=False)\n",
            "        (1): BatchNorm1d(128, eps=1e-05, momentum=0.1, affine=True, track_running_stats=True)\n",
            "        (2): SiLU()\n",
            "      )\n",
            "      (inv_res_blc1): Sequential(\n",
            "        (0): Conv1d(128, 512, kernel_size=(1,), stride=(1,), padding=same, bias=False)\n",
            "        (1): BatchNorm1d(512, eps=1e-05, momentum=0.1, affine=True, track_running_stats=True)\n",
            "        (2): SiLU()\n",
            "        (3): Conv1d(512, 512, kernel_size=(7,), stride=(1,), padding=same, groups=256, bias=False)\n",
            "        (4): BatchNorm1d(512, eps=1e-05, momentum=0.1, affine=True, track_running_stats=True)\n",
            "        (5): SiLU()\n",
            "        (6): SELayer(\n",
            "          (avg_pool): AdaptiveAvgPool1d(output_size=1)\n",
            "          (fc): Sequential(\n",
            "            (0): Linear(in_features=512, out_features=32, bias=True)\n",
            "            (1): SiLU()\n",
            "            (2): Linear(in_features=32, out_features=32, bias=True)\n",
            "            (3): Concater(\n",
            "              (mod): Bilinear(\n",
            "                (trl): TRL(\n",
            "                  (weight): CPTensor(shape=(32, 32, 16), rank=102)\n",
            "                )\n",
            "              )\n",
            "            )\n",
            "            (4): SiLU()\n",
            "            (5): Linear(in_features=48, out_features=512, bias=True)\n",
            "            (6): Sigmoid()\n",
            "          )\n",
            "        )\n",
            "        (7): Conv1d(512, 128, kernel_size=(1,), stride=(1,), padding=same, bias=False)\n",
            "        (8): BatchNorm1d(128, eps=1e-05, momentum=0.1, affine=True, track_running_stats=True)\n",
            "        (9): SiLU()\n",
            "      )\n",
            "      (resize_blc1): Sequential(\n",
            "        (0): Conv1d(256, 128, kernel_size=(7,), stride=(1,), padding=same, bias=False)\n",
            "        (1): BatchNorm1d(128, eps=1e-05, momentum=0.1, affine=True, track_running_stats=True)\n",
            "        (2): SiLU()\n",
            "      )\n",
            "      (inv_res_blc2): Sequential(\n",
            "        (0): Conv1d(128, 256, kernel_size=(1,), stride=(1,), padding=same, bias=False)\n",
            "        (1): BatchNorm1d(256, eps=1e-05, momentum=0.1, affine=True, track_running_stats=True)\n",
            "        (2): SiLU()\n",
            "        (3): Conv1d(256, 256, kernel_size=(7,), stride=(1,), padding=same, groups=128, bias=False)\n",
            "        (4): BatchNorm1d(256, eps=1e-05, momentum=0.1, affine=True, track_running_stats=True)\n",
            "        (5): SiLU()\n",
            "        (6): SELayer(\n",
            "          (avg_pool): AdaptiveAvgPool1d(output_size=1)\n",
            "          (fc): Sequential(\n",
            "            (0): Linear(in_features=256, out_features=32, bias=True)\n",
            "            (1): SiLU()\n",
            "            (2): Linear(in_features=32, out_features=32, bias=True)\n",
            "            (3): Concater(\n",
            "              (mod): Bilinear(\n",
            "                (trl): TRL(\n",
            "                  (weight): CPTensor(shape=(32, 32, 16), rank=102)\n",
            "                )\n",
            "              )\n",
            "            )\n",
            "            (4): SiLU()\n",
            "            (5): Linear(in_features=48, out_features=256, bias=True)\n",
            "            (6): Sigmoid()\n",
            "          )\n",
            "        )\n",
            "        (7): Conv1d(256, 128, kernel_size=(1,), stride=(1,), padding=same, bias=False)\n",
            "        (8): BatchNorm1d(128, eps=1e-05, momentum=0.1, affine=True, track_running_stats=True)\n",
            "        (9): SiLU()\n",
            "      )\n",
            "      (resize_blc2): Sequential(\n",
            "        (0): Conv1d(256, 64, kernel_size=(7,), stride=(1,), padding=same, bias=False)\n",
            "        (1): BatchNorm1d(64, eps=1e-05, momentum=0.1, affine=True, track_running_stats=True)\n",
            "        (2): SiLU()\n",
            "      )\n",
            "      (inv_res_blc3): Sequential(\n",
            "        (0): Conv1d(64, 256, kernel_size=(1,), stride=(1,), padding=same, bias=False)\n",
            "        (1): BatchNorm1d(256, eps=1e-05, momentum=0.1, affine=True, track_running_stats=True)\n",
            "        (2): SiLU()\n",
            "        (3): Conv1d(256, 256, kernel_size=(7,), stride=(1,), padding=same, groups=128, bias=False)\n",
            "        (4): BatchNorm1d(256, eps=1e-05, momentum=0.1, affine=True, track_running_stats=True)\n",
            "        (5): SiLU()\n",
            "        (6): SELayer(\n",
            "          (avg_pool): AdaptiveAvgPool1d(output_size=1)\n",
            "          (fc): Sequential(\n",
            "            (0): Linear(in_features=256, out_features=16, bias=True)\n",
            "            (1): SiLU()\n",
            "            (2): Linear(in_features=16, out_features=16, bias=True)\n",
            "            (3): Concater(\n",
            "              (mod): Bilinear(\n",
            "                (trl): TRL(\n",
            "                  (weight): CPTensor(shape=(16, 16, 8), rank=26)\n",
            "                )\n",
            "              )\n",
            "            )\n",
            "            (4): SiLU()\n",
            "            (5): Linear(in_features=24, out_features=256, bias=True)\n",
            "            (6): Sigmoid()\n",
            "          )\n",
            "        )\n",
            "        (7): Conv1d(256, 64, kernel_size=(1,), stride=(1,), padding=same, bias=False)\n",
            "        (8): BatchNorm1d(64, eps=1e-05, momentum=0.1, affine=True, track_running_stats=True)\n",
            "        (9): SiLU()\n",
            "      )\n",
            "      (resize_blc3): Sequential(\n",
            "        (0): Conv1d(128, 64, kernel_size=(7,), stride=(1,), padding=same, bias=False)\n",
            "        (1): BatchNorm1d(64, eps=1e-05, momentum=0.1, affine=True, track_running_stats=True)\n",
            "        (2): SiLU()\n",
            "      )\n",
            "      (inv_res_blc4): Sequential(\n",
            "        (0): Conv1d(64, 256, kernel_size=(1,), stride=(1,), padding=same, bias=False)\n",
            "        (1): BatchNorm1d(256, eps=1e-05, momentum=0.1, affine=True, track_running_stats=True)\n",
            "        (2): SiLU()\n",
            "        (3): Conv1d(256, 256, kernel_size=(7,), stride=(1,), padding=same, groups=128, bias=False)\n",
            "        (4): BatchNorm1d(256, eps=1e-05, momentum=0.1, affine=True, track_running_stats=True)\n",
            "        (5): SiLU()\n",
            "        (6): SELayer(\n",
            "          (avg_pool): AdaptiveAvgPool1d(output_size=1)\n",
            "          (fc): Sequential(\n",
            "            (0): Linear(in_features=256, out_features=16, bias=True)\n",
            "            (1): SiLU()\n",
            "            (2): Linear(in_features=16, out_features=16, bias=True)\n",
            "            (3): Concater(\n",
            "              (mod): Bilinear(\n",
            "                (trl): TRL(\n",
            "                  (weight): CPTensor(shape=(16, 16, 8), rank=26)\n",
            "                )\n",
            "              )\n",
            "            )\n",
            "            (4): SiLU()\n",
            "            (5): Linear(in_features=24, out_features=256, bias=True)\n",
            "            (6): Sigmoid()\n",
            "          )\n",
            "        )\n",
            "        (7): Conv1d(256, 64, kernel_size=(1,), stride=(1,), padding=same, bias=False)\n",
            "        (8): BatchNorm1d(64, eps=1e-05, momentum=0.1, affine=True, track_running_stats=True)\n",
            "        (9): SiLU()\n",
            "      )\n",
            "      (resize_blc4): Sequential(\n",
            "        (0): Conv1d(128, 64, kernel_size=(7,), stride=(1,), padding=same, bias=False)\n",
            "        (1): BatchNorm1d(64, eps=1e-05, momentum=0.1, affine=True, track_running_stats=True)\n",
            "        (2): SiLU()\n",
            "      )\n",
            "      (inv_res_blc5): Sequential(\n",
            "        (0): Conv1d(64, 256, kernel_size=(1,), stride=(1,), padding=same, bias=False)\n",
            "        (1): BatchNorm1d(256, eps=1e-05, momentum=0.1, affine=True, track_running_stats=True)\n",
            "        (2): SiLU()\n",
            "        (3): Conv1d(256, 256, kernel_size=(7,), stride=(1,), padding=same, groups=128, bias=False)\n",
            "        (4): BatchNorm1d(256, eps=1e-05, momentum=0.1, affine=True, track_running_stats=True)\n",
            "        (5): SiLU()\n",
            "        (6): SELayer(\n",
            "          (avg_pool): AdaptiveAvgPool1d(output_size=1)\n",
            "          (fc): Sequential(\n",
            "            (0): Linear(in_features=256, out_features=16, bias=True)\n",
            "            (1): SiLU()\n",
            "            (2): Linear(in_features=16, out_features=16, bias=True)\n",
            "            (3): Concater(\n",
            "              (mod): Bilinear(\n",
            "                (trl): TRL(\n",
            "                  (weight): CPTensor(shape=(16, 16, 8), rank=26)\n",
            "                )\n",
            "              )\n",
            "            )\n",
            "            (4): SiLU()\n",
            "            (5): Linear(in_features=24, out_features=256, bias=True)\n",
            "            (6): Sigmoid()\n",
            "          )\n",
            "        )\n",
            "        (7): Conv1d(256, 64, kernel_size=(1,), stride=(1,), padding=same, bias=False)\n",
            "        (8): BatchNorm1d(64, eps=1e-05, momentum=0.1, affine=True, track_running_stats=True)\n",
            "        (9): SiLU()\n",
            "      )\n",
            "      (resize_blc5): Sequential(\n",
            "        (0): Conv1d(128, 64, kernel_size=(7,), stride=(1,), padding=same, bias=False)\n",
            "        (1): BatchNorm1d(64, eps=1e-05, momentum=0.1, affine=True, track_running_stats=True)\n",
            "        (2): SiLU()\n",
            "      )\n",
            "    )\n",
            "    (mapper): Sequential(\n",
            "      (0): Dropout(p=0.1, inplace=False)\n",
            "      (1): Conv1d(64, 18, kernel_size=(1,), stride=(1,), padding=same)\n",
            "      (2): SiLU()\n",
            "    )\n",
            "  )\n",
            "  (classifier): Sequential(\n",
            "    (0): Linear(in_features=1280, out_features=512, bias=True)\n",
            "    (1): Dropout(p=0.3, inplace=False)\n",
            "    (2): SiLU()\n",
            "    (3): Linear(in_features=512, out_features=32, bias=True)\n",
            "    (4): SiLU()\n",
            "    (5): Linear(in_features=32, out_features=1, bias=True)\n",
            "    (6): Sigmoid()\n",
            "  )\n",
            "  (regressor): Linear(in_features=5390, out_features=1, bias=True)\n",
            ")\n"
          ]
        }
      ],
      "source": [
        "print(model)"
      ]
    },
    {
      "cell_type": "code",
      "execution_count": 28,
      "metadata": {
        "colab": {
          "base_uri": "https://localhost:8080/",
          "height": 392
        },
        "id": "xAjnZwijeRSq",
        "outputId": "76f402f3-6b3c-4c34-e71f-122b46333aca"
      },
      "outputs": [
        {
          "name": "stdout",
          "output_type": "stream",
          "text": [
            "torch.Size([32, 6, 271])\n",
            "tensor([0.4746], device='cuda:0', grad_fn=<SelectBackward0>) tensor([0.2312], device='cuda:0', grad_fn=<SelectBackward0>)\n",
            "tensor([1., 1., 1., 0., 0., 0., 1., 0., 1., 1., 1., 0., 0., 0., 0., 0., 1., 1.,\n",
            "        0., 0., 0., 1., 0., 0., 0., 1., 0., 1., 1., 1., 1., 0.]) tensor([1.3339, 1.2826, 1.1143, 0.7430, 0.6388, 0.9193, 1.7220, 0.4189, 1.1580,\n",
            "        1.3901, 1.5619, 0.4849, 0.5997, 0.7369, 0.6722, 0.3476, 1.2230, 1.4729,\n",
            "        0.7332, 0.9612, 0.8271, 1.5395, 0.8880, 0.4216, 0.6164, 1.6678, 0.8042,\n",
            "        1.4735, 1.5541, 1.5244, 1.1676, 0.4090])\n"
          ]
        }
      ],
      "source": [
        "batch = next(iter(train_loader))\n",
        "x = batch[1].squeeze(1)\n",
        "x = torch.cat([x, torch.zeros((x.shape[0], 2, x.shape[2]), device=x.device)], dim=1).to(DEVICE)\n",
        "print(x.shape)\n",
        "y = model(x)\n",
        "print(y[0][0], y[1][0])\n",
        "print(batch[2], batch[3])"
      ]
    },
    {
      "cell_type": "code",
      "execution_count": null,
      "metadata": {
        "id": "gE4I3lOzeRSq"
      },
      "outputs": [
        {
          "data": {
            "text/html": [
              "<div>\n",
              "<style scoped>\n",
              "    .dataframe tbody tr th:only-of-type {\n",
              "        vertical-align: middle;\n",
              "    }\n",
              "\n",
              "    .dataframe tbody tr th {\n",
              "        vertical-align: top;\n",
              "    }\n",
              "\n",
              "    .dataframe thead th {\n",
              "        text-align: right;\n",
              "    }\n",
              "</style>\n",
              "<table border=\"1\" class=\"dataframe\">\n",
              "  <thead>\n",
              "    <tr style=\"text-align: right;\">\n",
              "      <th></th>\n",
              "      <th>rna_dna_ratio</th>\n",
              "      <th>is_active</th>\n",
              "      <th>insert_chrom_label</th>\n",
              "    </tr>\n",
              "  </thead>\n",
              "  <tbody>\n",
              "    <tr>\n",
              "      <th>count</th>\n",
              "      <td>37326.000000</td>\n",
              "      <td>37326.000000</td>\n",
              "      <td>37326.000000</td>\n",
              "    </tr>\n",
              "    <tr>\n",
              "      <th>mean</th>\n",
              "      <td>1.042660</td>\n",
              "      <td>0.522692</td>\n",
              "      <td>11.519665</td>\n",
              "    </tr>\n",
              "    <tr>\n",
              "      <th>std</th>\n",
              "      <td>0.367381</td>\n",
              "      <td>0.499492</td>\n",
              "      <td>6.638904</td>\n",
              "    </tr>\n",
              "    <tr>\n",
              "      <th>min</th>\n",
              "      <td>0.149372</td>\n",
              "      <td>0.000000</td>\n",
              "      <td>0.000000</td>\n",
              "    </tr>\n",
              "    <tr>\n",
              "      <th>25%</th>\n",
              "      <td>0.753619</td>\n",
              "      <td>0.000000</td>\n",
              "      <td>6.000000</td>\n",
              "    </tr>\n",
              "    <tr>\n",
              "      <th>50%</th>\n",
              "      <td>1.071731</td>\n",
              "      <td>1.000000</td>\n",
              "      <td>11.000000</td>\n",
              "    </tr>\n",
              "    <tr>\n",
              "      <th>75%</th>\n",
              "      <td>1.301316</td>\n",
              "      <td>1.000000</td>\n",
              "      <td>17.000000</td>\n",
              "    </tr>\n",
              "    <tr>\n",
              "      <th>max</th>\n",
              "      <td>3.090281</td>\n",
              "      <td>1.000000</td>\n",
              "      <td>23.000000</td>\n",
              "    </tr>\n",
              "  </tbody>\n",
              "</table>\n",
              "</div>"
            ],
            "text/plain": [
              "       rna_dna_ratio     is_active  insert_chrom_label\n",
              "count   37326.000000  37326.000000        37326.000000\n",
              "mean        1.042660      0.522692           11.519665\n",
              "std         0.367381      0.499492            6.638904\n",
              "min         0.149372      0.000000            0.000000\n",
              "25%         0.753619      0.000000            6.000000\n",
              "50%         1.071731      1.000000           11.000000\n",
              "75%         1.301316      1.000000           17.000000\n",
              "max         3.090281      1.000000           23.000000"
            ]
          },
          "execution_count": 26,
          "metadata": {},
          "output_type": "execute_result"
        }
      ],
      "source": [
        "train_df.describe()"
      ]
    },
    {
      "cell_type": "code",
      "execution_count": null,
      "metadata": {
        "id": "MYsNYiRQyHia"
      },
      "outputs": [],
      "source": [
        "# torch.cuda.empty_cache()"
      ]
    },
    {
      "cell_type": "code",
      "execution_count": 45,
      "metadata": {
        "colab": {
          "base_uri": "https://localhost:8080/",
          "height": 460,
          "referenced_widgets": [
            "20002087baad486dbe595736dc266b71",
            "633f5cdd393f486294ad7fe375964310",
            "66fd3c2e99e84454a43d8f055a85d2b4",
            "7357c34e30b74865a1d2fe187a95d33d",
            "dac9c4afa636478c9d00df0524d4da37",
            "4fed8ccb70f14369b83df8913466c3f1",
            "909784b5e47b4ac8abf46143b90bdde1",
            "b2b6152d6aad40d48d804dc7cebf2dde",
            "888350265e854cc3bbcffcd08d18b00d",
            "6a4216cdff1e4fd8903323befc5599f7",
            "5f5860e41ae14b5f98acd08e81b33a3b"
          ]
        },
        "id": "V5C8kQd1haAS",
        "outputId": "59d5da9a-1156-48b1-d2f3-94f2ec114389"
      },
      "outputs": [
        {
          "data": {
            "application/vnd.jupyter.widget-view+json": {
              "model_id": "31c46beff24a45298c5ec47036078d71",
              "version_major": 2,
              "version_minor": 0
            },
            "text/plain": [
              "Epoch 1:   0%|          | 0/1167 [00:00<?, ?it/s]"
            ]
          },
          "metadata": {},
          "output_type": "display_data"
        },
        {
          "name": "stdout",
          "output_type": "stream",
          "text": [
            "Epoch 1: Train Loss = 0.7856, Val Loss = 0.7225, Reg Loss = 0.1050, Cls Loss = 0.6175, F1 = 0.6509, Precision = 0.6972574013309643, Recall = 0.6213189268193305\n"
          ]
        },
        {
          "data": {
            "application/vnd.jupyter.widget-view+json": {
              "model_id": "2bc478c3564b4a33bc7c649d1cfd04a6",
              "version_major": 2,
              "version_minor": 0
            },
            "text/plain": [
              "Epoch 2:   0%|          | 0/1167 [00:00<?, ?it/s]"
            ]
          },
          "metadata": {},
          "output_type": "display_data"
        },
        {
          "name": "stdout",
          "output_type": "stream",
          "text": [
            "Epoch 2: Train Loss = 0.6669, Val Loss = 0.6410, Reg Loss = 0.0884, Cls Loss = 0.5526, F1 = 0.7397, Precision = 0.6884196023354553, Recall = 0.8094972371321811\n"
          ]
        },
        {
          "data": {
            "application/vnd.jupyter.widget-view+json": {
              "model_id": "d06920ddfb964d7695b3b820f0516c90",
              "version_major": 2,
              "version_minor": 0
            },
            "text/plain": [
              "Epoch 3:   0%|          | 0/1167 [00:00<?, ?it/s]"
            ]
          },
          "metadata": {},
          "output_type": "display_data"
        },
        {
          "name": "stdout",
          "output_type": "stream",
          "text": [
            "Epoch 3: Train Loss = 0.6250, Val Loss = 0.6242, Reg Loss = 0.0849, Cls Loss = 0.5393, F1 = 0.7502, Precision = 0.6946618143251201, Recall = 0.8261887509186941\n"
          ]
        },
        {
          "data": {
            "application/vnd.jupyter.widget-view+json": {
              "model_id": "399a6b7c34a84469a669a205aef57725",
              "version_major": 2,
              "version_minor": 0
            },
            "text/plain": [
              "Epoch 4:   0%|          | 0/1167 [00:00<?, ?it/s]"
            ]
          },
          "metadata": {},
          "output_type": "display_data"
        },
        {
          "name": "stdout",
          "output_type": "stream",
          "text": [
            "Epoch 4: Train Loss = 0.6053, Val Loss = 0.6161, Reg Loss = 0.0842, Cls Loss = 0.5319, F1 = 0.7596, Precision = 0.6913065679730304, Recall = 0.8540036682493605\n"
          ]
        },
        {
          "data": {
            "application/vnd.jupyter.widget-view+json": {
              "model_id": "7aa334ed31ea46388cfcee834fa3aa67",
              "version_major": 2,
              "version_minor": 0
            },
            "text/plain": [
              "Epoch 5:   0%|          | 0/1167 [00:00<?, ?it/s]"
            ]
          },
          "metadata": {},
          "output_type": "display_data"
        },
        {
          "name": "stdout",
          "output_type": "stream",
          "text": [
            "Epoch 5: Train Loss = 0.5885, Val Loss = 0.6271, Reg Loss = 0.0848, Cls Loss = 0.5422, F1 = 0.7574, Precision = 0.6713293446248125, Recall = 0.8806153084176704\n"
          ]
        },
        {
          "data": {
            "application/vnd.jupyter.widget-view+json": {
              "model_id": "4d6f8acf316949b9b99aa785b5c3a161",
              "version_major": 2,
              "version_minor": 0
            },
            "text/plain": [
              "Epoch 6:   0%|          | 0/1167 [00:00<?, ?it/s]"
            ]
          },
          "metadata": {},
          "output_type": "display_data"
        },
        {
          "name": "stdout",
          "output_type": "stream",
          "text": [
            "Epoch 6: Train Loss = 0.5754, Val Loss = 0.6052, Reg Loss = 0.0865, Cls Loss = 0.5187, F1 = 0.7614, Precision = 0.7027694876460339, Recall = 0.8438561758246435\n"
          ]
        },
        {
          "data": {
            "application/vnd.jupyter.widget-view+json": {
              "model_id": "4e74e00841cf47fd974893fdbdf4c321",
              "version_major": 2,
              "version_minor": 0
            },
            "text/plain": [
              "Epoch 7:   0%|          | 0/1167 [00:00<?, ?it/s]"
            ]
          },
          "metadata": {},
          "output_type": "display_data"
        },
        {
          "name": "stdout",
          "output_type": "stream",
          "text": [
            "Epoch 7: Train Loss = 0.5592, Val Loss = 0.6647, Reg Loss = 0.0973, Cls Loss = 0.5674, F1 = 0.7561, Precision = 0.6546386430588963, Recall = 0.9095295031852774\n"
          ]
        },
        {
          "data": {
            "application/vnd.jupyter.widget-view+json": {
              "model_id": "4dba6d48c66d48eaa185823eda2974d2",
              "version_major": 2,
              "version_minor": 0
            },
            "text/plain": [
              "Epoch 8:   0%|          | 0/1167 [00:00<?, ?it/s]"
            ]
          },
          "metadata": {},
          "output_type": "display_data"
        },
        {
          "name": "stdout",
          "output_type": "stream",
          "text": [
            "Epoch 8: Train Loss = 0.5469, Val Loss = 0.6153, Reg Loss = 0.0833, Cls Loss = 0.5321, F1 = 0.6954, Precision = 0.8096335454938561, Recall = 0.6193465180492368\n"
          ]
        },
        {
          "data": {
            "application/vnd.jupyter.widget-view+json": {
              "model_id": "cf9e5b27267a49e083ab26a0d6e04f78",
              "version_major": 2,
              "version_minor": 0
            },
            "text/plain": [
              "Epoch 9:   0%|          | 0/1167 [00:00<?, ?it/s]"
            ]
          },
          "metadata": {},
          "output_type": "display_data"
        },
        {
          "name": "stdout",
          "output_type": "stream",
          "text": [
            "Epoch 9: Train Loss = 0.5126, Val Loss = 0.5610, Reg Loss = 0.0740, Cls Loss = 0.4870, F1 = 0.7743, Precision = 0.7382394128178863, Recall = 0.8244851543091541\n"
          ]
        },
        {
          "data": {
            "application/vnd.jupyter.widget-view+json": {
              "model_id": "97d4c562d5834cb38b894f2d5b282eb3",
              "version_major": 2,
              "version_minor": 0
            },
            "text/plain": [
              "Epoch 10:   0%|          | 0/1167 [00:00<?, ?it/s]"
            ]
          },
          "metadata": {},
          "output_type": "display_data"
        },
        {
          "name": "stdout",
          "output_type": "stream",
          "text": [
            "Epoch 10: Train Loss = 0.5033, Val Loss = 0.5597, Reg Loss = 0.0725, Cls Loss = 0.4872, F1 = 0.7690, Precision = 0.7564343010505079, Recall = 0.7914960433729779\n"
          ]
        },
        {
          "data": {
            "application/vnd.jupyter.widget-view+json": {
              "model_id": "88e2ca332b4741679d9a560358bc9685",
              "version_major": 2,
              "version_minor": 0
            },
            "text/plain": [
              "Epoch 11:   0%|          | 0/1167 [00:00<?, ?it/s]"
            ]
          },
          "metadata": {},
          "output_type": "display_data"
        },
        {
          "ename": "KeyboardInterrupt",
          "evalue": "",
          "output_type": "error",
          "traceback": [
            "\u001b[0;31m---------------------------------------------------------------------------\u001b[0m",
            "\u001b[0;31mKeyboardInterrupt\u001b[0m                         Traceback (most recent call last)",
            "Cell \u001b[0;32mIn[45], line 19\u001b[0m\n\u001b[1;32m     17\u001b[0m     loss\u001b[38;5;241m.\u001b[39mbackward()\n\u001b[1;32m     18\u001b[0m     optimizer\u001b[38;5;241m.\u001b[39mstep()\n\u001b[0;32m---> 19\u001b[0m     epoch_train_loss \u001b[38;5;241m+\u001b[39m\u001b[38;5;241m=\u001b[39m \u001b[43mloss\u001b[49m\u001b[38;5;241;43m.\u001b[39;49m\u001b[43mitem\u001b[49m\u001b[43m(\u001b[49m\u001b[43m)\u001b[49m\n\u001b[1;32m     20\u001b[0m     pbar\u001b[38;5;241m.\u001b[39mset_postfix(loss_reg\u001b[38;5;241m=\u001b[39mloss_reg\u001b[38;5;241m.\u001b[39mitem(), loss_cls\u001b[38;5;241m=\u001b[39mloss_cls\u001b[38;5;241m.\u001b[39mitem(), loss\u001b[38;5;241m=\u001b[39mloss\u001b[38;5;241m.\u001b[39mitem())\n\u001b[1;32m     22\u001b[0m avg_train_loss \u001b[38;5;241m=\u001b[39m epoch_train_loss \u001b[38;5;241m/\u001b[39m \u001b[38;5;28mlen\u001b[39m(train_loader)\n",
            "\u001b[0;31mKeyboardInterrupt\u001b[0m: "
          ]
        }
      ],
      "source": [
        "for epoch in range(EPOCHS):\n",
        "    model.train()\n",
        "    epoch_train_loss = 0\n",
        "    pbar = tqdm(train_loader, desc=f\"Epoch {epoch+1}\")\n",
        "    for batch in pbar:\n",
        "        if batch is None:\n",
        "            continue\n",
        "        raw_seqs, oh_tensor, y_cls, y_reg = batch\n",
        "        oh_tensor, y_cls, y_reg = oh_tensor.to(DEVICE), y_cls.to(DEVICE), y_reg.to(DEVICE)\n",
        "\n",
        "        optimizer.zero_grad()\n",
        "        x = torch.cat([oh_tensor.squeeze(1), torch.zeros((oh_tensor.shape[0], 2, oh_tensor.shape[-1]), device=DEVICE)], dim=1)\n",
        "        out_cls, out_reg = model(x)\n",
        "        loss_reg = criterion_reg(out_reg.squeeze(-1), y_reg)\n",
        "        loss_cls = criterion_cls(out_cls.squeeze(-1), y_cls)\n",
        "        loss = loss_cls + loss_reg\n",
        "        loss.backward()\n",
        "        optimizer.step()\n",
        "        epoch_train_loss += loss.item()\n",
        "        pbar.set_postfix(loss_reg=loss_reg.item(), loss_cls=loss_cls.item(), loss=loss.item())\n",
        "\n",
        "    avg_train_loss = epoch_train_loss / len(train_loader)\n",
        "    train_losses.append(avg_train_loss)\n",
        "\n",
        "    # Walidacja\n",
        "    model.eval()\n",
        "    epoch_val_loss = 0\n",
        "    avg_reg = 0\n",
        "    avg_cls = 0\n",
        "    f1 = 0\n",
        "    precision = 0\n",
        "    recall = 0\n",
        "    with torch.no_grad():\n",
        "        for batch in val_loader:\n",
        "            if batch is None:\n",
        "                continue\n",
        "            raw_seqs, oh_tensor, y_cls, y_reg = batch\n",
        "            oh_tensor, y_cls, y_reg = oh_tensor.to(DEVICE), y_cls.to(DEVICE), y_reg.to(DEVICE)\n",
        "            x = torch.cat([oh_tensor.squeeze(1), torch.zeros((oh_tensor.shape[0], 2, oh_tensor.shape[-1]), device=DEVICE)], dim=1)\n",
        "            out_cls, out_reg = model(x)\n",
        "            loss_reg = criterion_reg(out_reg.squeeze(-1), y_reg)\n",
        "            avg_reg += loss_reg\n",
        "            loss_cls = criterion_cls(out_cls.squeeze(-1), y_cls)\n",
        "            avg_cls += loss_cls\n",
        "            loss_val = loss_cls + loss_reg\n",
        "            epoch_val_loss += loss_val.item()\n",
        "            f1 += f1_score(y_cls.cpu().numpy(), (out_cls.squeeze(-1).cpu().numpy() > 0.5).astype(int))\n",
        "            precision += precision_score(y_cls.cpu().numpy(), (out_cls.squeeze(-1).cpu().numpy() > 0.5).astype(int))\n",
        "            recall += recall_score(y_cls.cpu().numpy(), (out_cls.squeeze(-1).cpu().numpy() > 0.5).astype(int))\n",
        "    avg_val_loss = epoch_val_loss / len(val_loader)\n",
        "    avg_reg /= len(val_loader)\n",
        "    avg_cls /= len(val_loader)\n",
        "    f1 /= len(val_loader)\n",
        "    precision /= len(val_loader)\n",
        "    recall /= len(val_loader)\n",
        "    val_losses.append(avg_val_loss)\n",
        "    \n",
        "\n",
        "    scheduler.step(avg_val_loss)\n",
        "    print(f\"Epoch {epoch+1}: Train Loss = {avg_train_loss:.4f}, Val Loss = {avg_val_loss:.4f}, Reg Loss = {avg_reg:.4f}, Cls Loss = {avg_cls:.4f}, F1 = {f1:.4f}, Precision = {precision}, Recall = {recall}\")"
      ]
    },
    {
      "cell_type": "code",
      "execution_count": null,
      "metadata": {},
      "outputs": [],
      "source": [
        "torch.cuda.empty_cache()"
      ]
    },
    {
      "cell_type": "code",
      "execution_count": 46,
      "metadata": {
        "id": "ZSREsJJvnM2D"
      },
      "outputs": [
        {
          "data": {
            "image/png": "[encoded data removed]",
            "text/plain": [
              "<Figure size 1000x500 with 1 Axes>"
            ]
          },
          "metadata": {},
          "output_type": "display_data"
        }
      ],
      "source": [
        "plt.figure(figsize=(10,5))\n",
        "plt.plot(train_losses, label='Training Loss')\n",
        "plt.plot(val_losses, label='Validation Loss')\n",
        "plt.xlabel('Epoch')\n",
        "plt.ylabel('Loss')\n",
        "plt.title('Training and Validation Loss')\n",
        "plt.legend()\n",
        "plt.grid(True)\n",
        "plt.show()\n"
      ]
    },
    {
      "cell_type": "code",
      "execution_count": 47,
      "metadata": {
        "id": "akBO0DXVnWAY"
      },
      "outputs": [
        {
          "name": "stdout",
          "output_type": "stream",
          "text": [
            "Validation F1 Score: 0.781\n"
          ]
        }
      ],
      "source": [
        "def evaluate(model, loader):\n",
        "    model.eval()\n",
        "    y_true_cls, y_pred_cls = [], []\n",
        "    with torch.no_grad():\n",
        "        for batch in loader:\n",
        "            if batch is None:\n",
        "                continue\n",
        "            raw_seqs, oh_tensor, y_cls, _ = batch\n",
        "            oh_tensor = oh_tensor.to(DEVICE)\n",
        "            x = torch.cat([oh_tensor.squeeze(1), torch.zeros((oh_tensor.shape[0], 2, oh_tensor.shape[-1]), device=DEVICE)], dim=1)\n",
        "            out_cls, out_reg = model(x)\n",
        "            preds = (out_cls.squeeze().cpu().numpy() > 0.5).astype(int)\n",
        "\n",
        "            y_pred_cls.extend(preds.tolist())\n",
        "            y_true_cls.extend(y_cls.numpy().tolist())\n",
        "\n",
        "    # Calculate F1 score\n",
        "    f1 = f1_score(y_true_cls, y_pred_cls)\n",
        "    return f1\n",
        "\n",
        "val_f1 = evaluate(model, val_loader)\n",
        "print(f\"Validation F1 Score: {val_f1:.3f}\")"
      ]
    }
  ],
  "metadata": {
    "accelerator": "GPU",
    "colab": {
      "gpuType": "T4",
      "provenance": []
    },
    "kernelspec": {
      "display_name": "lic",
      "language": "python",
      "name": "python3"
    },
    "language_info": {
      "codemirror_mode": {
        "name": "ipython",
        "version": 3
      },
      "file_extension": ".py",
      "mimetype": "text/x-python",
      "name": "python",
      "nbconvert_exporter": "python",
      "pygments_lexer": "ipython3",
      "version": "3.12.7"
    },
    "widgets": {
      "application/vnd.jupyter.widget-state+json": {
        "20002087baad486dbe595736dc266b71": {
          "model_module": "@jupyter-widgets/controls",
          "model_module_version": "1.5.0",
          "model_name": "HBoxModel",
          "state": {
            "_dom_classes": [],
            "_model_module": "@jupyter-widgets/controls",
            "_model_module_version": "1.5.0",
            "_model_name": "HBoxModel",
            "_view_count": null,
            "_view_module": "@jupyter-widgets/controls",
            "_view_module_version": "1.5.0",
            "_view_name": "HBoxView",
            "box_style": "",
            "children": [
              "IPY_MODEL_633f5cdd393f486294ad7fe375964310",
              "IPY_MODEL_66fd3c2e99e84454a43d8f055a85d2b4",
              "IPY_MODEL_7357c34e30b74865a1d2fe187a95d33d"
            ],
            "layout": "IPY_MODEL_dac9c4afa636478c9d00df0524d4da37"
          }
        },
        "4fed8ccb70f14369b83df8913466c3f1": {
          "model_module": "@jupyter-widgets/base",
          "model_module_version": "1.2.0",
          "model_name": "LayoutModel",
          "state": {
            "_model_module": "@jupyter-widgets/base",
            "_model_module_version": "1.2.0",
            "_model_name": "LayoutModel",
            "_view_count": null,
            "_view_module": "@jupyter-widgets/base",
            "_view_module_version": "1.2.0",
            "_view_name": "LayoutView",
            "align_content": null,
            "align_items": null,
            "align_self": null,
            "border": null,
            "bottom": null,
            "display": null,
            "flex": null,
            "flex_flow": null,
            "grid_area": null,
            "grid_auto_columns": null,
            "grid_auto_flow": null,
            "grid_auto_rows": null,
            "grid_column": null,
            "grid_gap": null,
            "grid_row": null,
            "grid_template_areas": null,
            "grid_template_columns": null,
            "grid_template_rows": null,
            "height": null,
            "justify_content": null,
            "justify_items": null,
            "left": null,
            "margin": null,
            "max_height": null,
            "max_width": null,
            "min_height": null,
            "min_width": null,
            "object_fit": null,
            "object_position": null,
            "order": null,
            "overflow": null,
            "overflow_x": null,
            "overflow_y": null,
            "padding": null,
            "right": null,
            "top": null,
            "visibility": null,
            "width": null
          }
        },
        "5f5860e41ae14b5f98acd08e81b33a3b": {
          "model_module": "@jupyter-widgets/controls",
          "model_module_version": "1.5.0",
          "model_name": "DescriptionStyleModel",
          "state": {
            "_model_module": "@jupyter-widgets/controls",
            "_model_module_version": "1.5.0",
            "_model_name": "DescriptionStyleModel",
            "_view_count": null,
            "_view_module": "@jupyter-widgets/base",
            "_view_module_version": "1.2.0",
            "_view_name": "StyleView",
            "description_width": ""
          }
        },
        "633f5cdd393f486294ad7fe375964310": {
          "model_module": "@jupyter-widgets/controls",
          "model_module_version": "1.5.0",
          "model_name": "HTMLModel",
          "state": {
            "_dom_classes": [],
            "_model_module": "@jupyter-widgets/controls",
            "_model_module_version": "1.5.0",
            "_model_name": "HTMLModel",
            "_view_count": null,
            "_view_module": "@jupyter-widgets/controls",
            "_view_module_version": "1.5.0",
            "_view_name": "HTMLView",
            "description": "",
            "description_tooltip": null,
            "layout": "IPY_MODEL_4fed8ccb70f14369b83df8913466c3f1",
            "placeholder": "​",
            "style": "IPY_MODEL_909784b5e47b4ac8abf46143b90bdde1",
            "value": "Epoch 1:   1%"
          }
        },
        "66fd3c2e99e84454a43d8f055a85d2b4": {
          "model_module": "@jupyter-widgets/controls",
          "model_module_version": "1.5.0",
          "model_name": "FloatProgressModel",
          "state": {
            "_dom_classes": [],
            "_model_module": "@jupyter-widgets/controls",
            "_model_module_version": "1.5.0",
            "_model_name": "FloatProgressModel",
            "_view_count": null,
            "_view_module": "@jupyter-widgets/controls",
            "_view_module_version": "1.5.0",
            "_view_name": "ProgressView",
            "bar_style": "danger",
            "description": "",
            "description_tooltip": null,
            "layout": "IPY_MODEL_b2b6152d6aad40d48d804dc7cebf2dde",
            "max": 292,
            "min": 0,
            "orientation": "horizontal",
            "style": "IPY_MODEL_888350265e854cc3bbcffcd08d18b00d",
            "value": 2
          }
        },
        "6a4216cdff1e4fd8903323befc5599f7": {
          "model_module": "@jupyter-widgets/base",
          "model_module_version": "1.2.0",
          "model_name": "LayoutModel",
          "state": {
            "_model_module": "@jupyter-widgets/base",
            "_model_module_version": "1.2.0",
            "_model_name": "LayoutModel",
            "_view_count": null,
            "_view_module": "@jupyter-widgets/base",
            "_view_module_version": "1.2.0",
            "_view_name": "LayoutView",
            "align_content": null,
            "align_items": null,
            "align_self": null,
            "border": null,
            "bottom": null,
            "display": null,
            "flex": null,
            "flex_flow": null,
            "grid_area": null,
            "grid_auto_columns": null,
            "grid_auto_flow": null,
            "grid_auto_rows": null,
            "grid_column": null,
            "grid_gap": null,
            "grid_row": null,
            "grid_template_areas": null,
            "grid_template_columns": null,
            "grid_template_rows": null,
            "height": null,
            "justify_content": null,
            "justify_items": null,
            "left": null,
            "margin": null,
            "max_height": null,
            "max_width": null,
            "min_height": null,
            "min_width": null,
            "object_fit": null,
            "object_position": null,
            "order": null,
            "overflow": null,
            "overflow_x": null,
            "overflow_y": null,
            "padding": null,
            "right": null,
            "top": null,
            "visibility": null,
            "width": null
          }
        },
        "7357c34e30b74865a1d2fe187a95d33d": {
          "model_module": "@jupyter-widgets/controls",
          "model_module_version": "1.5.0",
          "model_name": "HTMLModel",
          "state": {
            "_dom_classes": [],
            "_model_module": "@jupyter-widgets/controls",
            "_model_module_version": "1.5.0",
            "_model_name": "HTMLModel",
            "_view_count": null,
            "_view_module": "@jupyter-widgets/controls",
            "_view_module_version": "1.5.0",
            "_view_name": "HTMLView",
            "description": "",
            "description_tooltip": null,
            "layout": "IPY_MODEL_6a4216cdff1e4fd8903323befc5599f7",
            "placeholder": "​",
            "style": "IPY_MODEL_5f5860e41ae14b5f98acd08e81b33a3b",
            "value": " 2/292 [01:02&lt;1:40:57, 20.89s/it, loss=1.33, loss_cls=1.02, loss_reg=0.305]"
          }
        },
        "888350265e854cc3bbcffcd08d18b00d": {
          "model_module": "@jupyter-widgets/controls",
          "model_module_version": "1.5.0",
          "model_name": "ProgressStyleModel",
          "state": {
            "_model_module": "@jupyter-widgets/controls",
            "_model_module_version": "1.5.0",
            "_model_name": "ProgressStyleModel",
            "_view_count": null,
            "_view_module": "@jupyter-widgets/base",
            "_view_module_version": "1.2.0",
            "_view_name": "StyleView",
            "bar_color": null,
            "description_width": ""
          }
        },
        "909784b5e47b4ac8abf46143b90bdde1": {
          "model_module": "@jupyter-widgets/controls",
          "model_module_version": "1.5.0",
          "model_name": "DescriptionStyleModel",
          "state": {
            "_model_module": "@jupyter-widgets/controls",
            "_model_module_version": "1.5.0",
            "_model_name": "DescriptionStyleModel",
            "_view_count": null,
            "_view_module": "@jupyter-widgets/base",
            "_view_module_version": "1.2.0",
            "_view_name": "StyleView",
            "description_width": ""
          }
        },
        "b2b6152d6aad40d48d804dc7cebf2dde": {
          "model_module": "@jupyter-widgets/base",
          "model_module_version": "1.2.0",
          "model_name": "LayoutModel",
          "state": {
            "_model_module": "@jupyter-widgets/base",
            "_model_module_version": "1.2.0",
            "_model_name": "LayoutModel",
            "_view_count": null,
            "_view_module": "@jupyter-widgets/base",
            "_view_module_version": "1.2.0",
            "_view_name": "LayoutView",
            "align_content": null,
            "align_items": null,
            "align_self": null,
            "border": null,
            "bottom": null,
            "display": null,
            "flex": null,
            "flex_flow": null,
            "grid_area": null,
            "grid_auto_columns": null,
            "grid_auto_flow": null,
            "grid_auto_rows": null,
            "grid_column": null,
            "grid_gap": null,
            "grid_row": null,
            "grid_template_areas": null,
            "grid_template_columns": null,
            "grid_template_rows": null,
            "height": null,
            "justify_content": null,
            "justify_items": null,
            "left": null,
            "margin": null,
            "max_height": null,
            "max_width": null,
            "min_height": null,
            "min_width": null,
            "object_fit": null,
            "object_position": null,
            "order": null,
            "overflow": null,
            "overflow_x": null,
            "overflow_y": null,
            "padding": null,
            "right": null,
            "top": null,
            "visibility": null,
            "width": null
          }
        },
        "dac9c4afa636478c9d00df0524d4da37": {
          "model_module": "@jupyter-widgets/base",
          "model_module_version": "1.2.0",
          "model_name": "LayoutModel",
          "state": {
            "_model_module": "@jupyter-widgets/base",
            "_model_module_version": "1.2.0",
            "_model_name": "LayoutModel",
            "_view_count": null,
            "_view_module": "@jupyter-widgets/base",
            "_view_module_version": "1.2.0",
            "_view_name": "LayoutView",
            "align_content": null,
            "align_items": null,
            "align_self": null,
            "border": null,
            "bottom": null,
            "display": null,
            "flex": null,
            "flex_flow": null,
            "grid_area": null,
            "grid_auto_columns": null,
            "grid_auto_flow": null,
            "grid_auto_rows": null,
            "grid_column": null,
            "grid_gap": null,
            "grid_row": null,
            "grid_template_areas": null,
            "grid_template_columns": null,
            "grid_template_rows": null,
            "height": null,
            "justify_content": null,
            "justify_items": null,
            "left": null,
            "margin": null,
            "max_height": null,
            "max_width": null,
            "min_height": null,
            "min_width": null,
            "object_fit": null,
            "object_position": null,
            "order": null,
            "overflow": null,
            "overflow_x": null,
            "overflow_y": null,
            "padding": null,
            "right": null,
            "top": null,
            "visibility": null,
            "width": null
          }
        }
      }
    }
  },
  "nbformat": 4,
  "nbformat_minor": 0
}
