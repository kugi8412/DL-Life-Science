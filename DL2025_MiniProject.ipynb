{
  "nbformat": 4,
  "nbformat_minor": 0,
  "metadata": {
    "colab": {
      "provenance": [],
      "gpuType": "T4"
    },
    "kernelspec": {
      "name": "python3",
      "display_name": "Python 3"
    },
    "language_info": {
      "name": "python"
    },
    "widgets": {
      "application/vnd.jupyter.widget-state+json": {
        "c1492b69e97b4036851874e69a497620": {
          "model_module": "@jupyter-widgets/controls",
          "model_name": "HBoxModel",
          "model_module_version": "1.5.0",
          "state": {
            "_dom_classes": [],
            "_model_module": "@jupyter-widgets/controls",
            "_model_module_version": "1.5.0",
            "_model_name": "HBoxModel",
            "_view_count": null,
            "_view_module": "@jupyter-widgets/controls",
            "_view_module_version": "1.5.0",
            "_view_name": "HBoxView",
            "box_style": "",
            "children": [
              "IPY_MODEL_96e9268b18c143669e5ceaa10eaabe15",
              "IPY_MODEL_f3de1c4eed644fce96a4e2a525661bcb",
              "IPY_MODEL_4b66652dfc434b10890443539ae34345"
            ],
            "layout": "IPY_MODEL_8e258ae93a0f46b491e25685a2df2c65"
          }
        },
        "96e9268b18c143669e5ceaa10eaabe15": {
          "model_module": "@jupyter-widgets/controls",
          "model_name": "HTMLModel",
          "model_module_version": "1.5.0",
          "state": {
            "_dom_classes": [],
            "_model_module": "@jupyter-widgets/controls",
            "_model_module_version": "1.5.0",
            "_model_name": "HTMLModel",
            "_view_count": null,
            "_view_module": "@jupyter-widgets/controls",
            "_view_module_version": "1.5.0",
            "_view_name": "HTMLView",
            "description": "",
            "description_tooltip": null,
            "layout": "IPY_MODEL_87600685cc1f497888e5674996a85a1a",
            "placeholder": "​",
            "style": "IPY_MODEL_541cbd1c562944a0b2439790c276f4bb",
            "value": "Epoch 1:  16%"
          }
        },
        "f3de1c4eed644fce96a4e2a525661bcb": {
          "model_module": "@jupyter-widgets/controls",
          "model_name": "FloatProgressModel",
          "model_module_version": "1.5.0",
          "state": {
            "_dom_classes": [],
            "_model_module": "@jupyter-widgets/controls",
            "_model_module_version": "1.5.0",
            "_model_name": "FloatProgressModel",
            "_view_count": null,
            "_view_module": "@jupyter-widgets/controls",
            "_view_module_version": "1.5.0",
            "_view_name": "ProgressView",
            "bar_style": "danger",
            "description": "",
            "description_tooltip": null,
            "layout": "IPY_MODEL_22af420dc40f46259df228bacb29ff4f",
            "max": 584,
            "min": 0,
            "orientation": "horizontal",
            "style": "IPY_MODEL_324fe548b2c649b3a947605cac4719c3",
            "value": 91
          }
        },
        "4b66652dfc434b10890443539ae34345": {
          "model_module": "@jupyter-widgets/controls",
          "model_name": "HTMLModel",
          "model_module_version": "1.5.0",
          "state": {
            "_dom_classes": [],
            "_model_module": "@jupyter-widgets/controls",
            "_model_module_version": "1.5.0",
            "_model_name": "HTMLModel",
            "_view_count": null,
            "_view_module": "@jupyter-widgets/controls",
            "_view_module_version": "1.5.0",
            "_view_name": "HTMLView",
            "description": "",
            "description_tooltip": null,
            "layout": "IPY_MODEL_012cca13216043b088be53b023685a3f",
            "placeholder": "​",
            "style": "IPY_MODEL_cec87898dc224d779b2d197e886ff173",
            "value": " 91/584 [00:44&lt;03:53,  2.11it/s, loss=1.05]"
          }
        },
        "8e258ae93a0f46b491e25685a2df2c65": {
          "model_module": "@jupyter-widgets/base",
          "model_name": "LayoutModel",
          "model_module_version": "1.2.0",
          "state": {
            "_model_module": "@jupyter-widgets/base",
            "_model_module_version": "1.2.0",
            "_model_name": "LayoutModel",
            "_view_count": null,
            "_view_module": "@jupyter-widgets/base",
            "_view_module_version": "1.2.0",
            "_view_name": "LayoutView",
            "align_content": null,
            "align_items": null,
            "align_self": null,
            "border": null,
            "bottom": null,
            "display": null,
            "flex": null,
            "flex_flow": null,
            "grid_area": null,
            "grid_auto_columns": null,
            "grid_auto_flow": null,
            "grid_auto_rows": null,
            "grid_column": null,
            "grid_gap": null,
            "grid_row": null,
            "grid_template_areas": null,
            "grid_template_columns": null,
            "grid_template_rows": null,
            "height": null,
            "justify_content": null,
            "justify_items": null,
            "left": null,
            "margin": null,
            "max_height": null,
            "max_width": null,
            "min_height": null,
            "min_width": null,
            "object_fit": null,
            "object_position": null,
            "order": null,
            "overflow": null,
            "overflow_x": null,
            "overflow_y": null,
            "padding": null,
            "right": null,
            "top": null,
            "visibility": null,
            "width": null
          }
        },
        "87600685cc1f497888e5674996a85a1a": {
          "model_module": "@jupyter-widgets/base",
          "model_name": "LayoutModel",
          "model_module_version": "1.2.0",
          "state": {
            "_model_module": "@jupyter-widgets/base",
            "_model_module_version": "1.2.0",
            "_model_name": "LayoutModel",
            "_view_count": null,
            "_view_module": "@jupyter-widgets/base",
            "_view_module_version": "1.2.0",
            "_view_name": "LayoutView",
            "align_content": null,
            "align_items": null,
            "align_self": null,
            "border": null,
            "bottom": null,
            "display": null,
            "flex": null,
            "flex_flow": null,
            "grid_area": null,
            "grid_auto_columns": null,
            "grid_auto_flow": null,
            "grid_auto_rows": null,
            "grid_column": null,
            "grid_gap": null,
            "grid_row": null,
            "grid_template_areas": null,
            "grid_template_columns": null,
            "grid_template_rows": null,
            "height": null,
            "justify_content": null,
            "justify_items": null,
            "left": null,
            "margin": null,
            "max_height": null,
            "max_width": null,
            "min_height": null,
            "min_width": null,
            "object_fit": null,
            "object_position": null,
            "order": null,
            "overflow": null,
            "overflow_x": null,
            "overflow_y": null,
            "padding": null,
            "right": null,
            "top": null,
            "visibility": null,
            "width": null
          }
        },
        "541cbd1c562944a0b2439790c276f4bb": {
          "model_module": "@jupyter-widgets/controls",
          "model_name": "DescriptionStyleModel",
          "model_module_version": "1.5.0",
          "state": {
            "_model_module": "@jupyter-widgets/controls",
            "_model_module_version": "1.5.0",
            "_model_name": "DescriptionStyleModel",
            "_view_count": null,
            "_view_module": "@jupyter-widgets/base",
            "_view_module_version": "1.2.0",
            "_view_name": "StyleView",
            "description_width": ""
          }
        },
        "22af420dc40f46259df228bacb29ff4f": {
          "model_module": "@jupyter-widgets/base",
          "model_name": "LayoutModel",
          "model_module_version": "1.2.0",
          "state": {
            "_model_module": "@jupyter-widgets/base",
            "_model_module_version": "1.2.0",
            "_model_name": "LayoutModel",
            "_view_count": null,
            "_view_module": "@jupyter-widgets/base",
            "_view_module_version": "1.2.0",
            "_view_name": "LayoutView",
            "align_content": null,
            "align_items": null,
            "align_self": null,
            "border": null,
            "bottom": null,
            "display": null,
            "flex": null,
            "flex_flow": null,
            "grid_area": null,
            "grid_auto_columns": null,
            "grid_auto_flow": null,
            "grid_auto_rows": null,
            "grid_column": null,
            "grid_gap": null,
            "grid_row": null,
            "grid_template_areas": null,
            "grid_template_columns": null,
            "grid_template_rows": null,
            "height": null,
            "justify_content": null,
            "justify_items": null,
            "left": null,
            "margin": null,
            "max_height": null,
            "max_width": null,
            "min_height": null,
            "min_width": null,
            "object_fit": null,
            "object_position": null,
            "order": null,
            "overflow": null,
            "overflow_x": null,
            "overflow_y": null,
            "padding": null,
            "right": null,
            "top": null,
            "visibility": null,
            "width": null
          }
        },
        "324fe548b2c649b3a947605cac4719c3": {
          "model_module": "@jupyter-widgets/controls",
          "model_name": "ProgressStyleModel",
          "model_module_version": "1.5.0",
          "state": {
            "_model_module": "@jupyter-widgets/controls",
            "_model_module_version": "1.5.0",
            "_model_name": "ProgressStyleModel",
            "_view_count": null,
            "_view_module": "@jupyter-widgets/base",
            "_view_module_version": "1.2.0",
            "_view_name": "StyleView",
            "bar_color": null,
            "description_width": ""
          }
        },
        "012cca13216043b088be53b023685a3f": {
          "model_module": "@jupyter-widgets/base",
          "model_name": "LayoutModel",
          "model_module_version": "1.2.0",
          "state": {
            "_model_module": "@jupyter-widgets/base",
            "_model_module_version": "1.2.0",
            "_model_name": "LayoutModel",
            "_view_count": null,
            "_view_module": "@jupyter-widgets/base",
            "_view_module_version": "1.2.0",
            "_view_name": "LayoutView",
            "align_content": null,
            "align_items": null,
            "align_self": null,
            "border": null,
            "bottom": null,
            "display": null,
            "flex": null,
            "flex_flow": null,
            "grid_area": null,
            "grid_auto_columns": null,
            "grid_auto_flow": null,
            "grid_auto_rows": null,
            "grid_column": null,
            "grid_gap": null,
            "grid_row": null,
            "grid_template_areas": null,
            "grid_template_columns": null,
            "grid_template_rows": null,
            "height": null,
            "justify_content": null,
            "justify_items": null,
            "left": null,
            "margin": null,
            "max_height": null,
            "max_width": null,
            "min_height": null,
            "min_width": null,
            "object_fit": null,
            "object_position": null,
            "order": null,
            "overflow": null,
            "overflow_x": null,
            "overflow_y": null,
            "padding": null,
            "right": null,
            "top": null,
            "visibility": null,
            "width": null
          }
        },
        "cec87898dc224d779b2d197e886ff173": {
          "model_module": "@jupyter-widgets/controls",
          "model_name": "DescriptionStyleModel",
          "model_module_version": "1.5.0",
          "state": {
            "_model_module": "@jupyter-widgets/controls",
            "_model_module_version": "1.5.0",
            "_model_name": "DescriptionStyleModel",
            "_view_count": null,
            "_view_module": "@jupyter-widgets/base",
            "_view_module_version": "1.2.0",
            "_view_name": "StyleView",
            "description_width": ""
          }
        }
      }
    },
    "accelerator": "GPU"
  },
  "cells": [
    {
      "cell_type": "code",
      "execution_count": 1,
      "metadata": {
        "colab": {
          "base_uri": "https://localhost:8080/"
        },
        "id": "a5bHlQNzhFLU",
        "outputId": "3d79e8fe-b24d-4a21-bc09-d3d91cd6b8fc"
      },
      "outputs": [
        {
          "output_type": "stream",
          "name": "stdout",
          "text": [
            "Requirement already satisfied: scikit-learn in /usr/local/lib/python3.11/dist-packages (1.6.1)\n",
            "Requirement already satisfied: numpy>=1.19.5 in /usr/local/lib/python3.11/dist-packages (from scikit-learn) (2.0.2)\n",
            "Requirement already satisfied: scipy>=1.6.0 in /usr/local/lib/python3.11/dist-packages (from scikit-learn) (1.14.1)\n",
            "Requirement already satisfied: joblib>=1.2.0 in /usr/local/lib/python3.11/dist-packages (from scikit-learn) (1.4.2)\n",
            "Requirement already satisfied: threadpoolctl>=3.1.0 in /usr/local/lib/python3.11/dist-packages (from scikit-learn) (3.6.0)\n"
          ]
        }
      ],
      "source": [
        "!pip install scikit-learn"
      ]
    },
    {
      "cell_type": "code",
      "source": [
        "import copy\n",
        "import torch\n",
        "import torch.nn as nn\n",
        "import torch.nn.functional as F\n",
        "from torch.optim.lr_scheduler import ReduceLROnPlateau\n",
        "from torch.utils.data import Dataset, DataLoader\n",
        "import math\n",
        "import numpy as np\n",
        "import pandas as pd\n",
        "from sklearn.metrics import roc_auc_score, mean_squared_error\n",
        "from tqdm.notebook import tqdm\n",
        "import matplotlib.pyplot as plt\n",
        "from transformers import AutoTokenizer, AutoModelForMaskedLM\n",
        "import random\n",
        "from sklearn.preprocessing import OneHotEncoder as Encoder\n",
        "from sklearn.metrics import f1_score, mean_squared_error, r2_score"
      ],
      "metadata": {
        "id": "RDDbLyekYp_t"
      },
      "execution_count": 113,
      "outputs": []
    },
    {
      "cell_type": "code",
      "source": [
        "SEQ_LEN = 271\n",
        "BATCH_SIZE = 64\n",
        "DEVICE = 'cuda' if torch.cuda.is_available() else 'cpu'\n",
        "EPOCHS = 32\n",
        "WEIGHT_MSE = 0.5 # DIFFERENT LOSS\n",
        "PATIENCE = 3\n",
        "LEARNING_RATE = 3e-4\n",
        "WEIGHT_DECAY = 0.2\n",
        "CNN_OUTPUTS = 4 # Zwiększenie wpływu na wartość ciagłą\n",
        "TRANSFORMER_OUTPUTS = 32"
      ],
      "metadata": {
        "id": "N9VeuFuMgIbe"
      },
      "execution_count": 114,
      "outputs": []
    },
    {
      "cell_type": "code",
      "source": [
        "!wget https://raw.githubusercontent.com/kugi8412/DL-Life-Science/refs/heads/main/train_data.tsv -O train_data.tsv\n",
        "\n",
        "df = pd.read_csv('train_data.tsv', sep='\\t')\n",
        "df.head()"
      ],
      "metadata": {
        "colab": {
          "base_uri": "https://localhost:8080/",
          "height": 403
        },
        "id": "KWEZPJonYvHU",
        "outputId": "334af637-bc60-495b-fc30-99805aa1955b"
      },
      "execution_count": 3,
      "outputs": [
        {
          "output_type": "stream",
          "name": "stdout",
          "text": [
            "--2025-04-14 23:40:00--  https://raw.githubusercontent.com/kugi8412/DL-Life-Science/refs/heads/main/train_data.tsv\n",
            "Resolving raw.githubusercontent.com (raw.githubusercontent.com)... 185.199.108.133, 185.199.109.133, 185.199.110.133, ...\n",
            "Connecting to raw.githubusercontent.com (raw.githubusercontent.com)|185.199.108.133|:443... connected.\n",
            "HTTP request sent, awaiting response... 200 OK\n",
            "Length: 13382819 (13M) [text/plain]\n",
            "Saving to: ‘train_data.tsv’\n",
            "\n",
            "train_data.tsv      100%[===================>]  12.76M  --.-KB/s    in 0.09s   \n",
            "\n",
            "2025-04-14 23:40:01 (136 MB/s) - ‘train_data.tsv’ saved [13382819/13382819]\n",
            "\n"
          ]
        },
        {
          "output_type": "execute_result",
          "data": {
            "text/plain": [
              "  insert_chrom               insert_name  \\\n",
              "0        chr16   chr16:22572551-22572821   \n",
              "1        chr18   chr18:46761035-46761305   \n",
              "2         chr1  chr1:209485218-209485488   \n",
              "3         chr3    chr3:45119427-45119697   \n",
              "4        chr14   chr14:51481635-51481905   \n",
              "\n",
              "                                            sequence  rna_dna_ratio  is_active  \n",
              "0  GTTCTCTATGCCATCTCACATTTATCCCCAAAGCCCAGGGAGGCTG...       1.179811          1  \n",
              "1  CAAAACATGGAGGTCTGAAGTCCCTTTTGTTCCTATCAGTATGGAG...       1.406439          1  \n",
              "2  TGTGGGAACAAGGAAGGAGTTAAGTTGGCATAAGCAGTTTAATAAG...       1.021255          0  \n",
              "3  TGCCCTATCTTGGATTCTGATTATGAGTCTCCGGGCAGCTGATGGC...       0.817915          0  \n",
              "4  GGTTTCCTTCGATCACCCAAGCTGGCTATTATTATCGTTCTTACAC...       0.756986          0  "
            ],
            "text/html": [
              "\n",
              "  <div id=\"df-1e66d18c-4975-49e5-8dce-8ce38af760da\" class=\"colab-df-container\">\n",
              "    <div>\n",
              "<style scoped>\n",
              "    .dataframe tbody tr th:only-of-type {\n",
              "        vertical-align: middle;\n",
              "    }\n",
              "\n",
              "    .dataframe tbody tr th {\n",
              "        vertical-align: top;\n",
              "    }\n",
              "\n",
              "    .dataframe thead th {\n",
              "        text-align: right;\n",
              "    }\n",
              "</style>\n",
              "<table border=\"1\" class=\"dataframe\">\n",
              "  <thead>\n",
              "    <tr style=\"text-align: right;\">\n",
              "      <th></th>\n",
              "      <th>insert_chrom</th>\n",
              "      <th>insert_name</th>\n",
              "      <th>sequence</th>\n",
              "      <th>rna_dna_ratio</th>\n",
              "      <th>is_active</th>\n",
              "    </tr>\n",
              "  </thead>\n",
              "  <tbody>\n",
              "    <tr>\n",
              "      <th>0</th>\n",
              "      <td>chr16</td>\n",
              "      <td>chr16:22572551-22572821</td>\n",
              "      <td>GTTCTCTATGCCATCTCACATTTATCCCCAAAGCCCAGGGAGGCTG...</td>\n",
              "      <td>1.179811</td>\n",
              "      <td>1</td>\n",
              "    </tr>\n",
              "    <tr>\n",
              "      <th>1</th>\n",
              "      <td>chr18</td>\n",
              "      <td>chr18:46761035-46761305</td>\n",
              "      <td>CAAAACATGGAGGTCTGAAGTCCCTTTTGTTCCTATCAGTATGGAG...</td>\n",
              "      <td>1.406439</td>\n",
              "      <td>1</td>\n",
              "    </tr>\n",
              "    <tr>\n",
              "      <th>2</th>\n",
              "      <td>chr1</td>\n",
              "      <td>chr1:209485218-209485488</td>\n",
              "      <td>TGTGGGAACAAGGAAGGAGTTAAGTTGGCATAAGCAGTTTAATAAG...</td>\n",
              "      <td>1.021255</td>\n",
              "      <td>0</td>\n",
              "    </tr>\n",
              "    <tr>\n",
              "      <th>3</th>\n",
              "      <td>chr3</td>\n",
              "      <td>chr3:45119427-45119697</td>\n",
              "      <td>TGCCCTATCTTGGATTCTGATTATGAGTCTCCGGGCAGCTGATGGC...</td>\n",
              "      <td>0.817915</td>\n",
              "      <td>0</td>\n",
              "    </tr>\n",
              "    <tr>\n",
              "      <th>4</th>\n",
              "      <td>chr14</td>\n",
              "      <td>chr14:51481635-51481905</td>\n",
              "      <td>GGTTTCCTTCGATCACCCAAGCTGGCTATTATTATCGTTCTTACAC...</td>\n",
              "      <td>0.756986</td>\n",
              "      <td>0</td>\n",
              "    </tr>\n",
              "  </tbody>\n",
              "</table>\n",
              "</div>\n",
              "    <div class=\"colab-df-buttons\">\n",
              "\n",
              "  <div class=\"colab-df-container\">\n",
              "    <button class=\"colab-df-convert\" onclick=\"convertToInteractive('df-1e66d18c-4975-49e5-8dce-8ce38af760da')\"\n",
              "            title=\"Convert this dataframe to an interactive table.\"\n",
              "            style=\"display:none;\">\n",
              "\n",
              "  <svg xmlns=\"http://www.w3.org/2000/svg\" height=\"24px\" viewBox=\"0 -960 960 960\">\n",
              "    <path d=\"M120-120v-720h720v720H120Zm60-500h600v-160H180v160Zm220 220h160v-160H400v160Zm0 220h160v-160H400v160ZM180-400h160v-160H180v160Zm440 0h160v-160H620v160ZM180-180h160v-160H180v160Zm440 0h160v-160H620v160Z\"/>\n",
              "  </svg>\n",
              "    </button>\n",
              "\n",
              "  <style>\n",
              "    .colab-df-container {\n",
              "      display:flex;\n",
              "      gap: 12px;\n",
              "    }\n",
              "\n",
              "    .colab-df-convert {\n",
              "      background-color: #E8F0FE;\n",
              "      border: none;\n",
              "      border-radius: 50%;\n",
              "      cursor: pointer;\n",
              "      display: none;\n",
              "      fill: #1967D2;\n",
              "      height: 32px;\n",
              "      padding: 0 0 0 0;\n",
              "      width: 32px;\n",
              "    }\n",
              "\n",
              "    .colab-df-convert:hover {\n",
              "      background-color: #E2EBFA;\n",
              "      box-shadow: 0px 1px 2px rgba(60, 64, 67, 0.3), 0px 1px 3px 1px rgba(60, 64, 67, 0.15);\n",
              "      fill: #174EA6;\n",
              "    }\n",
              "\n",
              "    .colab-df-buttons div {\n",
              "      margin-bottom: 4px;\n",
              "    }\n",
              "\n",
              "    [theme=dark] .colab-df-convert {\n",
              "      background-color: #3B4455;\n",
              "      fill: #D2E3FC;\n",
              "    }\n",
              "\n",
              "    [theme=dark] .colab-df-convert:hover {\n",
              "      background-color: #434B5C;\n",
              "      box-shadow: 0px 1px 3px 1px rgba(0, 0, 0, 0.15);\n",
              "      filter: drop-shadow(0px 1px 2px rgba(0, 0, 0, 0.3));\n",
              "      fill: #FFFFFF;\n",
              "    }\n",
              "  </style>\n",
              "\n",
              "    <script>\n",
              "      const buttonEl =\n",
              "        document.querySelector('#df-1e66d18c-4975-49e5-8dce-8ce38af760da button.colab-df-convert');\n",
              "      buttonEl.style.display =\n",
              "        google.colab.kernel.accessAllowed ? 'block' : 'none';\n",
              "\n",
              "      async function convertToInteractive(key) {\n",
              "        const element = document.querySelector('#df-1e66d18c-4975-49e5-8dce-8ce38af760da');\n",
              "        const dataTable =\n",
              "          await google.colab.kernel.invokeFunction('convertToInteractive',\n",
              "                                                    [key], {});\n",
              "        if (!dataTable) return;\n",
              "\n",
              "        const docLinkHtml = 'Like what you see? Visit the ' +\n",
              "          '<a target=\"_blank\" href=https://colab.research.google.com/notebooks/data_table.ipynb>data table notebook</a>'\n",
              "          + ' to learn more about interactive tables.';\n",
              "        element.innerHTML = '';\n",
              "        dataTable['output_type'] = 'display_data';\n",
              "        await google.colab.output.renderOutput(dataTable, element);\n",
              "        const docLink = document.createElement('div');\n",
              "        docLink.innerHTML = docLinkHtml;\n",
              "        element.appendChild(docLink);\n",
              "      }\n",
              "    </script>\n",
              "  </div>\n",
              "\n",
              "\n",
              "<div id=\"df-e6911c65-6606-4d79-8b44-2170bd2b25d3\">\n",
              "  <button class=\"colab-df-quickchart\" onclick=\"quickchart('df-e6911c65-6606-4d79-8b44-2170bd2b25d3')\"\n",
              "            title=\"Suggest charts\"\n",
              "            style=\"display:none;\">\n",
              "\n",
              "<svg xmlns=\"http://www.w3.org/2000/svg\" height=\"24px\"viewBox=\"0 0 24 24\"\n",
              "     width=\"24px\">\n",
              "    <g>\n",
              "        <path d=\"M19 3H5c-1.1 0-2 .9-2 2v14c0 1.1.9 2 2 2h14c1.1 0 2-.9 2-2V5c0-1.1-.9-2-2-2zM9 17H7v-7h2v7zm4 0h-2V7h2v10zm4 0h-2v-4h2v4z\"/>\n",
              "    </g>\n",
              "</svg>\n",
              "  </button>\n",
              "\n",
              "<style>\n",
              "  .colab-df-quickchart {\n",
              "      --bg-color: #E8F0FE;\n",
              "      --fill-color: #1967D2;\n",
              "      --hover-bg-color: #E2EBFA;\n",
              "      --hover-fill-color: #174EA6;\n",
              "      --disabled-fill-color: #AAA;\n",
              "      --disabled-bg-color: #DDD;\n",
              "  }\n",
              "\n",
              "  [theme=dark] .colab-df-quickchart {\n",
              "      --bg-color: #3B4455;\n",
              "      --fill-color: #D2E3FC;\n",
              "      --hover-bg-color: #434B5C;\n",
              "      --hover-fill-color: #FFFFFF;\n",
              "      --disabled-bg-color: #3B4455;\n",
              "      --disabled-fill-color: #666;\n",
              "  }\n",
              "\n",
              "  .colab-df-quickchart {\n",
              "    background-color: var(--bg-color);\n",
              "    border: none;\n",
              "    border-radius: 50%;\n",
              "    cursor: pointer;\n",
              "    display: none;\n",
              "    fill: var(--fill-color);\n",
              "    height: 32px;\n",
              "    padding: 0;\n",
              "    width: 32px;\n",
              "  }\n",
              "\n",
              "  .colab-df-quickchart:hover {\n",
              "    background-color: var(--hover-bg-color);\n",
              "    box-shadow: 0 1px 2px rgba(60, 64, 67, 0.3), 0 1px 3px 1px rgba(60, 64, 67, 0.15);\n",
              "    fill: var(--button-hover-fill-color);\n",
              "  }\n",
              "\n",
              "  .colab-df-quickchart-complete:disabled,\n",
              "  .colab-df-quickchart-complete:disabled:hover {\n",
              "    background-color: var(--disabled-bg-color);\n",
              "    fill: var(--disabled-fill-color);\n",
              "    box-shadow: none;\n",
              "  }\n",
              "\n",
              "  .colab-df-spinner {\n",
              "    border: 2px solid var(--fill-color);\n",
              "    border-color: transparent;\n",
              "    border-bottom-color: var(--fill-color);\n",
              "    animation:\n",
              "      spin 1s steps(1) infinite;\n",
              "  }\n",
              "\n",
              "  @keyframes spin {\n",
              "    0% {\n",
              "      border-color: transparent;\n",
              "      border-bottom-color: var(--fill-color);\n",
              "      border-left-color: var(--fill-color);\n",
              "    }\n",
              "    20% {\n",
              "      border-color: transparent;\n",
              "      border-left-color: var(--fill-color);\n",
              "      border-top-color: var(--fill-color);\n",
              "    }\n",
              "    30% {\n",
              "      border-color: transparent;\n",
              "      border-left-color: var(--fill-color);\n",
              "      border-top-color: var(--fill-color);\n",
              "      border-right-color: var(--fill-color);\n",
              "    }\n",
              "    40% {\n",
              "      border-color: transparent;\n",
              "      border-right-color: var(--fill-color);\n",
              "      border-top-color: var(--fill-color);\n",
              "    }\n",
              "    60% {\n",
              "      border-color: transparent;\n",
              "      border-right-color: var(--fill-color);\n",
              "    }\n",
              "    80% {\n",
              "      border-color: transparent;\n",
              "      border-right-color: var(--fill-color);\n",
              "      border-bottom-color: var(--fill-color);\n",
              "    }\n",
              "    90% {\n",
              "      border-color: transparent;\n",
              "      border-bottom-color: var(--fill-color);\n",
              "    }\n",
              "  }\n",
              "</style>\n",
              "\n",
              "  <script>\n",
              "    async function quickchart(key) {\n",
              "      const quickchartButtonEl =\n",
              "        document.querySelector('#' + key + ' button');\n",
              "      quickchartButtonEl.disabled = true;  // To prevent multiple clicks.\n",
              "      quickchartButtonEl.classList.add('colab-df-spinner');\n",
              "      try {\n",
              "        const charts = await google.colab.kernel.invokeFunction(\n",
              "            'suggestCharts', [key], {});\n",
              "      } catch (error) {\n",
              "        console.error('Error during call to suggestCharts:', error);\n",
              "      }\n",
              "      quickchartButtonEl.classList.remove('colab-df-spinner');\n",
              "      quickchartButtonEl.classList.add('colab-df-quickchart-complete');\n",
              "    }\n",
              "    (() => {\n",
              "      let quickchartButtonEl =\n",
              "        document.querySelector('#df-e6911c65-6606-4d79-8b44-2170bd2b25d3 button');\n",
              "      quickchartButtonEl.style.display =\n",
              "        google.colab.kernel.accessAllowed ? 'block' : 'none';\n",
              "    })();\n",
              "  </script>\n",
              "</div>\n",
              "\n",
              "    </div>\n",
              "  </div>\n"
            ],
            "application/vnd.google.colaboratory.intrinsic+json": {
              "type": "dataframe",
              "variable_name": "df",
              "summary": "{\n  \"name\": \"df\",\n  \"rows\": 41733,\n  \"fields\": [\n    {\n      \"column\": \"insert_chrom\",\n      \"properties\": {\n        \"dtype\": \"category\",\n        \"num_unique_values\": 24,\n        \"samples\": [\n          \"chr6\",\n          \"chr4\",\n          \"chr16\"\n        ],\n        \"semantic_type\": \"\",\n        \"description\": \"\"\n      }\n    },\n    {\n      \"column\": \"insert_name\",\n      \"properties\": {\n        \"dtype\": \"string\",\n        \"num_unique_values\": 41733,\n        \"samples\": [\n          \"chr6:131377356-131377626\",\n          \"chrX:44674936-44675206\",\n          \"chr11:94873610-94873880\"\n        ],\n        \"semantic_type\": \"\",\n        \"description\": \"\"\n      }\n    },\n    {\n      \"column\": \"sequence\",\n      \"properties\": {\n        \"dtype\": \"string\",\n        \"num_unique_values\": 41733,\n        \"samples\": [\n          \"GAAGCTGTGAGAGTGTAGTAGTGAGTGCTATACACAGCGTGTGTGTTTGTCGGGTAAAGGGATTATGGACAGAGTTAAAAACAGATGAAACACAGTAAAAAATTATTTCCAGGCTGCAGTAGCCAGAGCTAGTTCTAGAAGTTAGAAGTCTGGTGGGCTCAGATGGTTTTTTCAGCTTTGAGTCTCACAAGGCCTAAATTAAGGAGTCAGACAGATGGGGCTCTTATTTGAGCTCTGAGGGAGAACCCACTTTCAGGCTCATTCAGGTTGT\",\n          \"GCATTTTACAGGTAAAGAGATCAAGGCACAGGTTAAGTGATTTGCTCAGGATCACATAGCTAGGAAGCAATGAAACTAGAATTTAAATGGTTCTAAATCATTACACTGCACTGCCTCTCTTCATGCTATGCTGCTTCTAATGTGAAGTGACTTGGCAAAAAGGATAGGGCTGGCAATGAAGGACAGTGTCTTTTTCGTGGGCCAGAAAGATGTTGTCTGGCAGTGTATTCATAAGCTCATCTGAAAAAAAAAAAAAGAAAGTGTACATCTT\",\n          \"AGGTTAAGTCCCTTCCTGAAATCTCACAGCCAGGAGAAGCTAGGATGATTTAAAACAAAGTTTGGAGAGGCACTGGGCATAGACCCTGGCTGTACAGCCTCTAACATGCGGCACTGCATCTTGGCAGTCTCTATGCCTGTCTGTGATGTGTGTGTGCACGTGTAACTACACACACACACACACACACACACACACACACACACAGCTATCACACATCTCAGAGCCTAAGAAATAGGACTAAGCCCAGAACTCCTAGAATCACCTATAAATG\"\n        ],\n        \"semantic_type\": \"\",\n        \"description\": \"\"\n      }\n    },\n    {\n      \"column\": \"rna_dna_ratio\",\n      \"properties\": {\n        \"dtype\": \"number\",\n        \"std\": 0.36678751181775504,\n        \"min\": 0.112850981296141,\n        \"max\": 3.09028073818568,\n        \"num_unique_values\": 41733,\n        \"samples\": [\n          1.19931259170548,\n          1.27012252886636,\n          1.6247103847716\n        ],\n        \"semantic_type\": \"\",\n        \"description\": \"\"\n      }\n    },\n    {\n      \"column\": \"is_active\",\n      \"properties\": {\n        \"dtype\": \"number\",\n        \"std\": 0,\n        \"min\": 0,\n        \"max\": 1,\n        \"num_unique_values\": 2,\n        \"samples\": [\n          0,\n          1\n        ],\n        \"semantic_type\": \"\",\n        \"description\": \"\"\n      }\n    }\n  ]\n}"
            }
          },
          "metadata": {},
          "execution_count": 3
        }
      ]
    },
    {
      "cell_type": "code",
      "source": [
        "val_chroms = ['chr10', 'chr11']\n",
        "train_df = df[~df['insert_chrom'].isin(val_chroms)]\n",
        "val_df = df[df['insert_chrom'].isin(val_chroms)]"
      ],
      "metadata": {
        "id": "m2O2YQZa5RHi"
      },
      "execution_count": 19,
      "outputs": []
    },
    {
      "cell_type": "code",
      "source": [
        "chrom_to_label = {chrom: i for i, chrom in enumerate(np.unique(np.concatenate([train_df['insert_chrom'], val_df['insert_chrom']])))}\n",
        "\n",
        "train_df.loc[:, 'insert_chrom_label'] = train_df['insert_chrom'].map(chrom_to_label)\n",
        "val_df.loc[:, 'insert_chrom_label'] = val_df['insert_chrom'].map(chrom_to_label)\n",
        "bins = np.histogram_bin_edges(np.concatenate([train_df['insert_chrom_label'], val_df['insert_chrom_label']]), bins=24)\n",
        "\n",
        "plt.hist(train_df['insert_chrom_label'], bins=bins, alpha=0.5, label='train_df')\n",
        "plt.hist(val_df['insert_chrom_label'], bins=bins, alpha=0.5, color='red', label='val_df')\n",
        "plt.xlabel('insert_chrom')\n",
        "plt.ylabel('Frequency')\n",
        "plt.title('Distribution of insert_chrom')\n",
        "plt.xticks(ticks=range(len(chrom_to_label)), labels=chrom_to_label.keys(), rotation=90, ha='right')\n",
        "plt.legend(loc='upper right')\n",
        "plt.show()"
      ],
      "metadata": {
        "colab": {
          "base_uri": "https://localhost:8080/",
          "height": 498
        },
        "id": "ghKrsc0pZiwc",
        "outputId": "b110bfd8-d6ce-499d-9ca6-eb4c2d07d59d"
      },
      "execution_count": null,
      "outputs": [
        {
          "output_type": "display_data",
          "data": {
            "text/plain": [
              "<Figure size 640x480 with 1 Axes>"
            ],
            "image/png": "[encoded data removed]"
          },
          "metadata": {}
        }
      ]
    },
    {
      "cell_type": "code",
      "source": [
        "# Dataset are balnced\n",
        "df['is_active'].hist()"
      ],
      "metadata": {
        "colab": {
          "base_uri": "https://localhost:8080/",
          "height": 448
        },
        "id": "jnUyARtLaJZA",
        "outputId": "b436ef9c-6a81-4d72-f5cd-8d4cb56635e0"
      },
      "execution_count": null,
      "outputs": [
        {
          "output_type": "execute_result",
          "data": {
            "text/plain": [
              "<Axes: >"
            ]
          },
          "metadata": {},
          "execution_count": 21
        },
        {
          "output_type": "display_data",
          "data": {
            "text/plain": [
              "<Figure size 640x480 with 1 Axes>"
            ],
            "image/png": "[encoded data removed]"
          },
          "metadata": {}
        }
      ]
    },
    {
      "cell_type": "code",
      "source": [
        "train_df['is_active'].hist()"
      ],
      "metadata": {
        "colab": {
          "base_uri": "https://localhost:8080/",
          "height": 448
        },
        "id": "lMqP3rLI5L3Q",
        "outputId": "640c0ba2-74c1-477f-a007-831887ad4532"
      },
      "execution_count": null,
      "outputs": [
        {
          "output_type": "execute_result",
          "data": {
            "text/plain": [
              "<Axes: >"
            ]
          },
          "metadata": {},
          "execution_count": 22
        },
        {
          "output_type": "display_data",
          "data": {
            "text/plain": [
              "<Figure size 640x480 with 1 Axes>"
            ],
            "image/png": "[encoded data removed]"
          },
          "metadata": {}
        }
      ]
    },
    {
      "cell_type": "code",
      "source": [
        "val_df['is_active'].hist()"
      ],
      "metadata": {
        "colab": {
          "base_uri": "https://localhost:8080/",
          "height": 448
        },
        "id": "Qe1btkSR5W3l",
        "outputId": "10675bf8-dce7-4d92-df23-be3ce66dc134"
      },
      "execution_count": null,
      "outputs": [
        {
          "output_type": "execute_result",
          "data": {
            "text/plain": [
              "<Axes: >"
            ]
          },
          "metadata": {},
          "execution_count": 23
        },
        {
          "output_type": "display_data",
          "data": {
            "text/plain": [
              "<Figure size 640x480 with 1 Axes>"
            ],
            "image/png": "[encoded data removed]"
          },
          "metadata": {}
        }
      ]
    },
    {
      "cell_type": "code",
      "source": [
        "# Histogram of continous values\n",
        "df['rna_dna_ratio'].hist(bins=30)"
      ],
      "metadata": {
        "colab": {
          "base_uri": "https://localhost:8080/",
          "height": 448
        },
        "id": "94k0WPrIaP1d",
        "outputId": "ac6a58f1-01aa-4c2b-f344-9521f0c90ccf"
      },
      "execution_count": null,
      "outputs": [
        {
          "output_type": "execute_result",
          "data": {
            "text/plain": [
              "<Axes: >"
            ]
          },
          "metadata": {},
          "execution_count": 24
        },
        {
          "output_type": "display_data",
          "data": {
            "text/plain": [
              "<Figure size 640x480 with 1 Axes>"
            ],
            "image/png": "[encoded data removed]"
          },
          "metadata": {}
        }
      ]
    },
    {
      "cell_type": "code",
      "source": [
        "train_df['rna_dna_ratio'].hist(bins=30)"
      ],
      "metadata": {
        "colab": {
          "base_uri": "https://localhost:8080/",
          "height": 448
        },
        "id": "phONlGkP5fWy",
        "outputId": "e1766827-5c80-4e50-afcf-c49e690c34bc"
      },
      "execution_count": null,
      "outputs": [
        {
          "output_type": "execute_result",
          "data": {
            "text/plain": [
              "<Axes: >"
            ]
          },
          "metadata": {},
          "execution_count": 25
        },
        {
          "output_type": "display_data",
          "data": {
            "text/plain": [
              "<Figure size 640x480 with 1 Axes>"
            ],
            "image/png": "[encoded data removed]"
          },
          "metadata": {}
        }
      ]
    },
    {
      "cell_type": "code",
      "source": [
        "val_df['rna_dna_ratio'].hist(bins=30)"
      ],
      "metadata": {
        "colab": {
          "base_uri": "https://localhost:8080/",
          "height": 448
        },
        "id": "lL7gC2G_5ft8",
        "outputId": "d8c9cb89-6a5f-4f64-bf05-e8f59cd8cfdb"
      },
      "execution_count": null,
      "outputs": [
        {
          "output_type": "execute_result",
          "data": {
            "text/plain": [
              "<Axes: >"
            ]
          },
          "metadata": {},
          "execution_count": 26
        },
        {
          "output_type": "display_data",
          "data": {
            "text/plain": [
              "<Figure size 640x480 with 1 Axes>"
            ],
            "image/png": "[encoded data removed]"
          },
          "metadata": {}
        }
      ]
    },
    {
      "cell_type": "code",
      "source": [
        "# Sanity check of sequence length\n",
        "df['sequence_length'] = df['sequence'].apply(len)\n",
        "print(df['sequence_length'].unique())"
      ],
      "metadata": {
        "colab": {
          "base_uri": "https://localhost:8080/"
        },
        "id": "OOSVk-GLaihh",
        "outputId": "177f1596-57fe-4085-dce9-1a21e8c51263"
      },
      "execution_count": 5,
      "outputs": [
        {
          "output_type": "stream",
          "name": "stdout",
          "text": [
            "[271]\n"
          ]
        }
      ]
    },
    {
      "cell_type": "code",
      "source": [
        "class OHEncoder:\n",
        "    def __init__(self, categories=np.array(['A', 'C', 'G', 'T'])):\n",
        "        self.encoder = Encoder(sparse_output=False, categories=[categories])\n",
        "        self.dictionary = categories\n",
        "        self.encoder.fit(categories.reshape(-1, 1))\n",
        "\n",
        "    def __call__(self, seq, info=False):\n",
        "        seq = list(seq)\n",
        "        # Jeśli w sekwencji występuje znak 'N', zamieniamy go na losowy symbol\n",
        "        if 'N' in seq:\n",
        "            pos = [i for i, el in enumerate(seq) if el == 'N']\n",
        "            for p in pos:\n",
        "                seq[p] = random.choice(self.dictionary)\n",
        "        s = np.array(seq).reshape(-1, 1)\n",
        "        encoded = self.encoder.transform(s).T  # wynik: macierz (4, seq_len)\n",
        "\n",
        "        return torch.tensor(encoded).unsqueeze(0).unsqueeze(0).float()"
      ],
      "metadata": {
        "id": "zaeB98nIcm_4"
      },
      "execution_count": 115,
      "outputs": []
    },
    {
      "cell_type": "code",
      "source": [
        "# CNN (LOCAL APPROACH)\n",
        "class CustomCNNEncoder(nn.Module):\n",
        "    def __init__(self, seq_len=SEQ_LEN, num_channels=[128, 64, 64], kernel_widths=[9, 5, 3],\n",
        "                 pooling_widths=[2, 3, 3], num_units=[271, CNN_OUTPUTS], dropout=0.5):\n",
        "        \"\"\"\n",
        "        Przetwarza 2D one-hot zakodowaną sekwencję.\n",
        "        Wynik (wektor cech) ma wymiar num_units[-1] = CNN_OUTPUTS.\n",
        "        \"\"\"\n",
        "        super(CustomCNNEncoder, self).__init__()\n",
        "        paddings = [int((w - 1) / 2) for w in kernel_widths]\n",
        "        self.seq_len = seq_len\n",
        "\n",
        "        conv_modules = []\n",
        "        # Input: jeden kanał (tensor o kształcie 1 x (4, seq_len))\n",
        "        num_channels_in = [1] + num_channels\n",
        "        for num, (in_chan, out_chan, kernel, padding, pool) in \\\n",
        "                enumerate(zip(num_channels_in[:-1], num_channels_in[1:], kernel_widths, paddings, pooling_widths)):\n",
        "            k = 4 if num == 0 else 1\n",
        "            conv_modules += [\n",
        "                nn.Conv2d(in_chan, out_chan, kernel_size=(k, kernel), padding=(0, padding)),\n",
        "                nn.BatchNorm2d(out_chan),\n",
        "                nn.ReLU(),\n",
        "                nn.MaxPool2d(kernel_size=(1, pool), ceil_mode=True)\n",
        "            ]\n",
        "            seq_len = math.ceil(seq_len / pool)\n",
        "        self.conv_layers = nn.Sequential(*conv_modules)\n",
        "        self.conv_out_size = 1 * seq_len * num_channels_in[-1]\n",
        "\n",
        "        # Feature Extractor\n",
        "        fc_layers = []\n",
        "        num_units_fc = [self.conv_out_size] + num_units\n",
        "        for in_units, out_units in zip(num_units_fc[:-1], num_units_fc[1:]):\n",
        "            fc_layers += [nn.Linear(in_units, out_units), nn.ReLU(), nn.Dropout(p=dropout)]\n",
        "        self.fc_shared = nn.Sequential(*fc_layers)\n",
        "\n",
        "    def forward(self, x):\n",
        "        x = self.conv_layers(x) # shape (B, 1, 4, seq_len)\n",
        "        x = x.view(x.size(0), -1)\n",
        "        feat = self.fc_shared(x)\n",
        "        return feat  # tensor (B, num_units[-1])"
      ],
      "metadata": {
        "id": "DKNxoSfMfcvh"
      },
      "execution_count": 116,
      "outputs": []
    },
    {
      "cell_type": "code",
      "source": [
        "class NucleotideEmbedding(nn.Module):\n",
        "    def __init__(self, model_name='InstaDeepAI/nucleotide-transformer-v2-100m-multi-species'):\n",
        "        super().__init__()\n",
        "        self.tokenizer = AutoTokenizer.from_pretrained(model_name)\n",
        "        self.model = AutoModelForMaskedLM.from_pretrained(model_name)\n",
        "        self.hidden_size = self.model.config.hidden_size\n",
        "\n",
        "        # Freeze weights\n",
        "        for param in self.model.parameters():\n",
        "            param.requires_grad = False\n",
        "\n",
        "    def forward(self, seq_list):\n",
        "        # seq_list: List[str]\n",
        "        tokens = self.tokenizer(seq_list, return_tensors='pt', padding=True, truncation=True)\n",
        "        tokens = {k: v.to(DEVICE) for k, v in tokens.items()}\n",
        "        with torch.no_grad():\n",
        "            outputs = self.model(**tokens)\n",
        "        if outputs.hidden_states is not None:\n",
        "            embeddings = outputs.hidden_states[-1].mean(dim=1)\n",
        "        else:\n",
        "            embeddings = torch.zeros(len(seq_list), self.hidden_size, device=DEVICE)\n",
        "        return embeddings"
      ],
      "metadata": {
        "id": "fl3sFiyrfm5T"
      },
      "execution_count": 117,
      "outputs": []
    },
    {
      "cell_type": "code",
      "source": [
        "class CombinedModel(nn.Module):\n",
        "    def __init__(self, seq_len: int = SEQ_LEN):\n",
        "        \"\"\"\n",
        "        Łączy:\n",
        "         - cechy uzyskane z Nucleotide Transformer (transfer learning, zamrożone wagi)\n",
        "         - cechy z CNN (one-hot encoding)\n",
        "        Następnie cechy są scalane i przekazywane do dwóch głowic:\n",
        "         - classifier (predykcja binarna – is_active)\n",
        "         - regressor (predykcja ciągła – rna_dna_ratio)\n",
        "        \"\"\"\n",
        "        super(CombinedModel, self).__init__()\n",
        "        self.nt_transformer = NucleotideEmbedding()\n",
        "        # ADAPTER - TRAINING LAYER (GLOBAL APPROACH)\n",
        "        self.adapter = nn.Sequential(\n",
        "            nn.Linear(self.nt_transformer.hidden_size, TRANSFORMER_OUTPUTS),\n",
        "            nn.ReLU(),\n",
        "            nn.Dropout(0.5)\n",
        "        )\n",
        "        self.cnn_encoder = CustomCNNEncoder(seq_len=seq_len)  # ekstrakcja cech z one-hot\n",
        "\n",
        "        # Scalamy adapter (TRANSFORMER_OUTPUTS) i cechy CNN (CNN_OUTPUTS)\n",
        "        fused_dim = TRANSFORMER_OUTPUTS + CNN_OUTPUTS\n",
        "        self.classifier = nn.Linear(CNN_OUTPUTS, 1)\n",
        "        self.regressor = nn.Linear(fused_dim, 1)\n",
        "\n",
        "    def forward(self, raw_seq_list, oh_tensor):\n",
        "        nt_features = self.nt_transformer(raw_seq_list) # shape: (B, hidden_size)\n",
        "        nt_features_adapted = self.adapter(nt_features) # shape: (B, CNN_OUTPUTS + TRANSFORMER_OUTPUTS)\n",
        "        cnn_features = self.cnn_encoder(oh_tensor) # shape: (B, CNN_OUTPUTS)\n",
        "        fused = torch.cat([nt_features_adapted, cnn_features], dim=1)\n",
        "        # CLS w fused daje słabe wyniki fused daje słabe wyniki\n",
        "        out_cls = self.classifier(cnn_features)\n",
        "        out_reg = self.regressor(fused)\n",
        "        return out_cls, out_reg\n"
      ],
      "metadata": {
        "id": "BKI0eK0ymUma"
      },
      "execution_count": 118,
      "outputs": []
    },
    {
      "cell_type": "code",
      "source": [
        "class SequenceDataset(Dataset):\n",
        "    def __init__(self, df, oh_encoder):\n",
        "        \"\"\"\n",
        "        DataFrame df musi zawierać kolumny: sequence, rna_dna_ratio, is_active.\n",
        "        \"\"\"\n",
        "        self.df = df.reset_index(drop=True)\n",
        "        self.oh_encoder = oh_encoder\n",
        "\n",
        "    def __len__(self):\n",
        "        return len(self.df)\n",
        "\n",
        "    def __getitem__(self, idx):\n",
        "        row = self.df.iloc[idx]\n",
        "        seq = row['sequence']\n",
        "        oh = self.oh_encoder(seq)  # tensor o kształcie (1, 1, 4, seq_len)\n",
        "        if oh is None:\n",
        "            return None\n",
        "        label_cls = float(row['is_active'])\n",
        "        label_reg = float(row['rna_dna_ratio'])\n",
        "        return seq, oh, torch.tensor(label_cls, dtype=torch.float32), torch.tensor(label_reg, dtype=torch.float32)\n"
      ],
      "metadata": {
        "id": "0MyPg3GdfuCX"
      },
      "execution_count": 119,
      "outputs": []
    },
    {
      "cell_type": "code",
      "source": [
        "def collate_fn(batch):\n",
        "    batch = [item for item in batch if item is not None]\n",
        "    if len(batch) == 0:\n",
        "        return None\n",
        "    raw_seqs, oh_list, y_cls, y_reg = zip(*batch)\n",
        "    oh_tensor = torch.cat(oh_list, dim=0)  # kształt: (B, 1, 4, seq_len)\n",
        "    y_cls = torch.stack(y_cls)\n",
        "    y_reg = torch.stack(y_reg)\n",
        "    return list(raw_seqs), oh_tensor, y_cls, y_reg"
      ],
      "metadata": {
        "id": "zNAVSVWPZnNB"
      },
      "execution_count": 120,
      "outputs": []
    },
    {
      "cell_type": "code",
      "source": [
        "oh_encoder = OHEncoder()\n",
        "train_dataset = SequenceDataset(train_df, oh_encoder)\n",
        "val_dataset = SequenceDataset(val_df, oh_encoder)\n",
        "\n",
        "train_loader = DataLoader(train_dataset, batch_size=BATCH_SIZE, shuffle=True, collate_fn=collate_fn)\n",
        "val_loader = DataLoader(val_dataset, batch_size=BATCH_SIZE, collate_fn=collate_fn)"
      ],
      "metadata": {
        "id": "VOwSmG2If7gK"
      },
      "execution_count": 121,
      "outputs": []
    },
    {
      "cell_type": "code",
      "source": [
        "model = CombinedModel(seq_len=271).to(DEVICE)\n",
        "optimizer = torch.optim.Adam(model.parameters(),\n",
        "                             lr=LEARNING_RATE, weight_decay=WEIGHT_DECAY)\n",
        "best_model = copy.deepcopy(model)\n",
        "criterion_cls = nn.BCELoss()\n",
        "criterion_reg = nn.MSELoss()\n",
        "scheduler = ReduceLROnPlateau(optimizer, mode='min', patience=PATIENCE)\n",
        "\n",
        "\n",
        "best_val_loss = float('inf')\n",
        "trigger_times = 0\n",
        "train_losses = []\n",
        "val_losses = []"
      ],
      "metadata": {
        "colab": {
          "base_uri": "https://localhost:8080/",
          "height": 510
        },
        "id": "slsBLpAuhJvN",
        "outputId": "90008a78-989a-421a-9c78-5fb2da4cd784"
      },
      "execution_count": 122,
      "outputs": [
        {
          "name": "stdout",
          "output_type": "stream",
          "text": [
            "The repository for InstaDeepAI/nucleotide-transformer-v2-100m-multi-species contains custom code which must be executed to correctly load the model. You can inspect the repository content at https://hf.co/InstaDeepAI/nucleotide-transformer-v2-100m-multi-species.\n",
            "You can avoid this prompt in future by passing the argument `trust_remote_code=True`.\n",
            "\n",
            "Do you wish to run the custom code? [y/N] y\n"
          ]
        },
        {
          "output_type": "error",
          "ename": "RuntimeError",
          "evalue": "CUDA error: device-side assert triggered\nCUDA kernel errors might be asynchronously reported at some other API call, so the stacktrace below might be incorrect.\nFor debugging consider passing CUDA_LAUNCH_BLOCKING=1\nCompile with `TORCH_USE_CUDA_DSA` to enable device-side assertions.\n",
          "traceback": [
            "\u001b[0;31m---------------------------------------------------------------------------\u001b[0m",
            "\u001b[0;31mRuntimeError\u001b[0m                              Traceback (most recent call last)",
            "\u001b[0;32m<ipython-input-122-39423c6fc077>\u001b[0m in \u001b[0;36m<cell line: 0>\u001b[0;34m()\u001b[0m\n\u001b[0;32m----> 1\u001b[0;31m \u001b[0mmodel\u001b[0m \u001b[0;34m=\u001b[0m \u001b[0mCombinedModel\u001b[0m\u001b[0;34m(\u001b[0m\u001b[0mseq_len\u001b[0m\u001b[0;34m=\u001b[0m\u001b[0;36m271\u001b[0m\u001b[0;34m)\u001b[0m\u001b[0;34m.\u001b[0m\u001b[0mto\u001b[0m\u001b[0;34m(\u001b[0m\u001b[0mDEVICE\u001b[0m\u001b[0;34m)\u001b[0m\u001b[0;34m\u001b[0m\u001b[0;34m\u001b[0m\u001b[0m\n\u001b[0m\u001b[1;32m      2\u001b[0m optimizer = torch.optim.Adam(model.parameters(),\n\u001b[1;32m      3\u001b[0m                              lr=LEARNING_RATE, weight_decay=WEIGHT_DECAY)\n\u001b[1;32m      4\u001b[0m \u001b[0mbest_model\u001b[0m \u001b[0;34m=\u001b[0m \u001b[0mcopy\u001b[0m\u001b[0;34m.\u001b[0m\u001b[0mdeepcopy\u001b[0m\u001b[0;34m(\u001b[0m\u001b[0mmodel\u001b[0m\u001b[0;34m)\u001b[0m\u001b[0;34m\u001b[0m\u001b[0;34m\u001b[0m\u001b[0m\n\u001b[1;32m      5\u001b[0m \u001b[0mcriterion_cls\u001b[0m \u001b[0;34m=\u001b[0m \u001b[0mnn\u001b[0m\u001b[0;34m.\u001b[0m\u001b[0mBCELoss\u001b[0m\u001b[0;34m(\u001b[0m\u001b[0;34m)\u001b[0m\u001b[0;34m\u001b[0m\u001b[0;34m\u001b[0m\u001b[0m\n",
            "\u001b[0;32m/usr/local/lib/python3.11/dist-packages/torch/nn/modules/module.py\u001b[0m in \u001b[0;36mto\u001b[0;34m(self, *args, **kwargs)\u001b[0m\n\u001b[1;32m   1341\u001b[0m                     \u001b[0;32mraise\u001b[0m\u001b[0;34m\u001b[0m\u001b[0;34m\u001b[0m\u001b[0m\n\u001b[1;32m   1342\u001b[0m \u001b[0;34m\u001b[0m\u001b[0m\n\u001b[0;32m-> 1343\u001b[0;31m         \u001b[0;32mreturn\u001b[0m \u001b[0mself\u001b[0m\u001b[0;34m.\u001b[0m\u001b[0m_apply\u001b[0m\u001b[0;34m(\u001b[0m\u001b[0mconvert\u001b[0m\u001b[0;34m)\u001b[0m\u001b[0;34m\u001b[0m\u001b[0;34m\u001b[0m\u001b[0m\n\u001b[0m\u001b[1;32m   1344\u001b[0m \u001b[0;34m\u001b[0m\u001b[0m\n\u001b[1;32m   1345\u001b[0m     def register_full_backward_pre_hook(\n",
            "\u001b[0;32m/usr/local/lib/python3.11/dist-packages/torch/nn/modules/module.py\u001b[0m in \u001b[0;36m_apply\u001b[0;34m(self, fn, recurse)\u001b[0m\n\u001b[1;32m    901\u001b[0m         \u001b[0;32mif\u001b[0m \u001b[0mrecurse\u001b[0m\u001b[0;34m:\u001b[0m\u001b[0;34m\u001b[0m\u001b[0;34m\u001b[0m\u001b[0m\n\u001b[1;32m    902\u001b[0m             \u001b[0;32mfor\u001b[0m \u001b[0mmodule\u001b[0m \u001b[0;32min\u001b[0m \u001b[0mself\u001b[0m\u001b[0;34m.\u001b[0m\u001b[0mchildren\u001b[0m\u001b[0;34m(\u001b[0m\u001b[0;34m)\u001b[0m\u001b[0;34m:\u001b[0m\u001b[0;34m\u001b[0m\u001b[0;34m\u001b[0m\u001b[0m\n\u001b[0;32m--> 903\u001b[0;31m                 \u001b[0mmodule\u001b[0m\u001b[0;34m.\u001b[0m\u001b[0m_apply\u001b[0m\u001b[0;34m(\u001b[0m\u001b[0mfn\u001b[0m\u001b[0;34m)\u001b[0m\u001b[0;34m\u001b[0m\u001b[0;34m\u001b[0m\u001b[0m\n\u001b[0m\u001b[1;32m    904\u001b[0m \u001b[0;34m\u001b[0m\u001b[0m\n\u001b[1;32m    905\u001b[0m         \u001b[0;32mdef\u001b[0m \u001b[0mcompute_should_use_set_data\u001b[0m\u001b[0;34m(\u001b[0m\u001b[0mtensor\u001b[0m\u001b[0;34m,\u001b[0m \u001b[0mtensor_applied\u001b[0m\u001b[0;34m)\u001b[0m\u001b[0;34m:\u001b[0m\u001b[0;34m\u001b[0m\u001b[0;34m\u001b[0m\u001b[0m\n",
            "\u001b[0;32m/usr/local/lib/python3.11/dist-packages/torch/nn/modules/module.py\u001b[0m in \u001b[0;36m_apply\u001b[0;34m(self, fn, recurse)\u001b[0m\n\u001b[1;32m    901\u001b[0m         \u001b[0;32mif\u001b[0m \u001b[0mrecurse\u001b[0m\u001b[0;34m:\u001b[0m\u001b[0;34m\u001b[0m\u001b[0;34m\u001b[0m\u001b[0m\n\u001b[1;32m    902\u001b[0m             \u001b[0;32mfor\u001b[0m \u001b[0mmodule\u001b[0m \u001b[0;32min\u001b[0m \u001b[0mself\u001b[0m\u001b[0;34m.\u001b[0m\u001b[0mchildren\u001b[0m\u001b[0;34m(\u001b[0m\u001b[0;34m)\u001b[0m\u001b[0;34m:\u001b[0m\u001b[0;34m\u001b[0m\u001b[0;34m\u001b[0m\u001b[0m\n\u001b[0;32m--> 903\u001b[0;31m                 \u001b[0mmodule\u001b[0m\u001b[0;34m.\u001b[0m\u001b[0m_apply\u001b[0m\u001b[0;34m(\u001b[0m\u001b[0mfn\u001b[0m\u001b[0;34m)\u001b[0m\u001b[0;34m\u001b[0m\u001b[0;34m\u001b[0m\u001b[0m\n\u001b[0m\u001b[1;32m    904\u001b[0m \u001b[0;34m\u001b[0m\u001b[0m\n\u001b[1;32m    905\u001b[0m         \u001b[0;32mdef\u001b[0m \u001b[0mcompute_should_use_set_data\u001b[0m\u001b[0;34m(\u001b[0m\u001b[0mtensor\u001b[0m\u001b[0;34m,\u001b[0m \u001b[0mtensor_applied\u001b[0m\u001b[0;34m)\u001b[0m\u001b[0;34m:\u001b[0m\u001b[0;34m\u001b[0m\u001b[0;34m\u001b[0m\u001b[0m\n",
            "\u001b[0;32m/usr/local/lib/python3.11/dist-packages/torch/nn/modules/module.py\u001b[0m in \u001b[0;36m_apply\u001b[0;34m(self, fn, recurse)\u001b[0m\n\u001b[1;32m    901\u001b[0m         \u001b[0;32mif\u001b[0m \u001b[0mrecurse\u001b[0m\u001b[0;34m:\u001b[0m\u001b[0;34m\u001b[0m\u001b[0;34m\u001b[0m\u001b[0m\n\u001b[1;32m    902\u001b[0m             \u001b[0;32mfor\u001b[0m \u001b[0mmodule\u001b[0m \u001b[0;32min\u001b[0m \u001b[0mself\u001b[0m\u001b[0;34m.\u001b[0m\u001b[0mchildren\u001b[0m\u001b[0;34m(\u001b[0m\u001b[0;34m)\u001b[0m\u001b[0;34m:\u001b[0m\u001b[0;34m\u001b[0m\u001b[0;34m\u001b[0m\u001b[0m\n\u001b[0;32m--> 903\u001b[0;31m                 \u001b[0mmodule\u001b[0m\u001b[0;34m.\u001b[0m\u001b[0m_apply\u001b[0m\u001b[0;34m(\u001b[0m\u001b[0mfn\u001b[0m\u001b[0;34m)\u001b[0m\u001b[0;34m\u001b[0m\u001b[0;34m\u001b[0m\u001b[0m\n\u001b[0m\u001b[1;32m    904\u001b[0m \u001b[0;34m\u001b[0m\u001b[0m\n\u001b[1;32m    905\u001b[0m         \u001b[0;32mdef\u001b[0m \u001b[0mcompute_should_use_set_data\u001b[0m\u001b[0;34m(\u001b[0m\u001b[0mtensor\u001b[0m\u001b[0;34m,\u001b[0m \u001b[0mtensor_applied\u001b[0m\u001b[0;34m)\u001b[0m\u001b[0;34m:\u001b[0m\u001b[0;34m\u001b[0m\u001b[0;34m\u001b[0m\u001b[0m\n",
            "\u001b[0;32m/usr/local/lib/python3.11/dist-packages/torch/nn/modules/module.py\u001b[0m in \u001b[0;36m_apply\u001b[0;34m(self, fn, recurse)\u001b[0m\n\u001b[1;32m    901\u001b[0m         \u001b[0;32mif\u001b[0m \u001b[0mrecurse\u001b[0m\u001b[0;34m:\u001b[0m\u001b[0;34m\u001b[0m\u001b[0;34m\u001b[0m\u001b[0m\n\u001b[1;32m    902\u001b[0m             \u001b[0;32mfor\u001b[0m \u001b[0mmodule\u001b[0m \u001b[0;32min\u001b[0m \u001b[0mself\u001b[0m\u001b[0;34m.\u001b[0m\u001b[0mchildren\u001b[0m\u001b[0;34m(\u001b[0m\u001b[0;34m)\u001b[0m\u001b[0;34m:\u001b[0m\u001b[0;34m\u001b[0m\u001b[0;34m\u001b[0m\u001b[0m\n\u001b[0;32m--> 903\u001b[0;31m                 \u001b[0mmodule\u001b[0m\u001b[0;34m.\u001b[0m\u001b[0m_apply\u001b[0m\u001b[0;34m(\u001b[0m\u001b[0mfn\u001b[0m\u001b[0;34m)\u001b[0m\u001b[0;34m\u001b[0m\u001b[0;34m\u001b[0m\u001b[0m\n\u001b[0m\u001b[1;32m    904\u001b[0m \u001b[0;34m\u001b[0m\u001b[0m\n\u001b[1;32m    905\u001b[0m         \u001b[0;32mdef\u001b[0m \u001b[0mcompute_should_use_set_data\u001b[0m\u001b[0;34m(\u001b[0m\u001b[0mtensor\u001b[0m\u001b[0;34m,\u001b[0m \u001b[0mtensor_applied\u001b[0m\u001b[0;34m)\u001b[0m\u001b[0;34m:\u001b[0m\u001b[0;34m\u001b[0m\u001b[0;34m\u001b[0m\u001b[0m\n",
            "\u001b[0;32m/usr/local/lib/python3.11/dist-packages/torch/nn/modules/module.py\u001b[0m in \u001b[0;36m_apply\u001b[0;34m(self, fn, recurse)\u001b[0m\n\u001b[1;32m    901\u001b[0m         \u001b[0;32mif\u001b[0m \u001b[0mrecurse\u001b[0m\u001b[0;34m:\u001b[0m\u001b[0;34m\u001b[0m\u001b[0;34m\u001b[0m\u001b[0m\n\u001b[1;32m    902\u001b[0m             \u001b[0;32mfor\u001b[0m \u001b[0mmodule\u001b[0m \u001b[0;32min\u001b[0m \u001b[0mself\u001b[0m\u001b[0;34m.\u001b[0m\u001b[0mchildren\u001b[0m\u001b[0;34m(\u001b[0m\u001b[0;34m)\u001b[0m\u001b[0;34m:\u001b[0m\u001b[0;34m\u001b[0m\u001b[0;34m\u001b[0m\u001b[0m\n\u001b[0;32m--> 903\u001b[0;31m                 \u001b[0mmodule\u001b[0m\u001b[0;34m.\u001b[0m\u001b[0m_apply\u001b[0m\u001b[0;34m(\u001b[0m\u001b[0mfn\u001b[0m\u001b[0;34m)\u001b[0m\u001b[0;34m\u001b[0m\u001b[0;34m\u001b[0m\u001b[0m\n\u001b[0m\u001b[1;32m    904\u001b[0m \u001b[0;34m\u001b[0m\u001b[0m\n\u001b[1;32m    905\u001b[0m         \u001b[0;32mdef\u001b[0m \u001b[0mcompute_should_use_set_data\u001b[0m\u001b[0;34m(\u001b[0m\u001b[0mtensor\u001b[0m\u001b[0;34m,\u001b[0m \u001b[0mtensor_applied\u001b[0m\u001b[0;34m)\u001b[0m\u001b[0;34m:\u001b[0m\u001b[0;34m\u001b[0m\u001b[0;34m\u001b[0m\u001b[0m\n",
            "\u001b[0;32m/usr/local/lib/python3.11/dist-packages/torch/nn/modules/module.py\u001b[0m in \u001b[0;36m_apply\u001b[0;34m(self, fn, recurse)\u001b[0m\n\u001b[1;32m    928\u001b[0m             \u001b[0;31m# `with torch.no_grad():`\u001b[0m\u001b[0;34m\u001b[0m\u001b[0;34m\u001b[0m\u001b[0m\n\u001b[1;32m    929\u001b[0m             \u001b[0;32mwith\u001b[0m \u001b[0mtorch\u001b[0m\u001b[0;34m.\u001b[0m\u001b[0mno_grad\u001b[0m\u001b[0;34m(\u001b[0m\u001b[0;34m)\u001b[0m\u001b[0;34m:\u001b[0m\u001b[0;34m\u001b[0m\u001b[0;34m\u001b[0m\u001b[0m\n\u001b[0;32m--> 930\u001b[0;31m                 \u001b[0mparam_applied\u001b[0m \u001b[0;34m=\u001b[0m \u001b[0mfn\u001b[0m\u001b[0;34m(\u001b[0m\u001b[0mparam\u001b[0m\u001b[0;34m)\u001b[0m\u001b[0;34m\u001b[0m\u001b[0;34m\u001b[0m\u001b[0m\n\u001b[0m\u001b[1;32m    931\u001b[0m             \u001b[0mp_should_use_set_data\u001b[0m \u001b[0;34m=\u001b[0m \u001b[0mcompute_should_use_set_data\u001b[0m\u001b[0;34m(\u001b[0m\u001b[0mparam\u001b[0m\u001b[0;34m,\u001b[0m \u001b[0mparam_applied\u001b[0m\u001b[0;34m)\u001b[0m\u001b[0;34m\u001b[0m\u001b[0;34m\u001b[0m\u001b[0m\n\u001b[1;32m    932\u001b[0m \u001b[0;34m\u001b[0m\u001b[0m\n",
            "\u001b[0;32m/usr/local/lib/python3.11/dist-packages/torch/nn/modules/module.py\u001b[0m in \u001b[0;36mconvert\u001b[0;34m(t)\u001b[0m\n\u001b[1;32m   1327\u001b[0m                         \u001b[0mmemory_format\u001b[0m\u001b[0;34m=\u001b[0m\u001b[0mconvert_to_format\u001b[0m\u001b[0;34m,\u001b[0m\u001b[0;34m\u001b[0m\u001b[0;34m\u001b[0m\u001b[0m\n\u001b[1;32m   1328\u001b[0m                     )\n\u001b[0;32m-> 1329\u001b[0;31m                 return t.to(\n\u001b[0m\u001b[1;32m   1330\u001b[0m                     \u001b[0mdevice\u001b[0m\u001b[0;34m,\u001b[0m\u001b[0;34m\u001b[0m\u001b[0;34m\u001b[0m\u001b[0m\n\u001b[1;32m   1331\u001b[0m                     \u001b[0mdtype\u001b[0m \u001b[0;32mif\u001b[0m \u001b[0mt\u001b[0m\u001b[0;34m.\u001b[0m\u001b[0mis_floating_point\u001b[0m\u001b[0;34m(\u001b[0m\u001b[0;34m)\u001b[0m \u001b[0;32mor\u001b[0m \u001b[0mt\u001b[0m\u001b[0;34m.\u001b[0m\u001b[0mis_complex\u001b[0m\u001b[0;34m(\u001b[0m\u001b[0;34m)\u001b[0m \u001b[0;32melse\u001b[0m \u001b[0;32mNone\u001b[0m\u001b[0;34m,\u001b[0m\u001b[0;34m\u001b[0m\u001b[0;34m\u001b[0m\u001b[0m\n",
            "\u001b[0;31mRuntimeError\u001b[0m: CUDA error: device-side assert triggered\nCUDA kernel errors might be asynchronously reported at some other API call, so the stacktrace below might be incorrect.\nFor debugging consider passing CUDA_LAUNCH_BLOCKING=1\nCompile with `TORCH_USE_CUDA_DSA` to enable device-side assertions.\n"
          ]
        }
      ]
    },
    {
      "cell_type": "code",
      "source": [
        "for epoch in range(EPOCHS):\n",
        "    model.train()\n",
        "    epoch_train_loss = 0\n",
        "    pbar = tqdm(train_loader, desc=f\"Epoch {epoch+1}\")\n",
        "    for batch in pbar:\n",
        "        if batch is None:\n",
        "            continue\n",
        "        raw_seqs, oh_tensor, y_cls, y_reg = batch\n",
        "        oh_tensor, y_cls, y_reg = oh_tensor.to(DEVICE), y_cls.to(DEVICE), y_reg.to(DEVICE)\n",
        "\n",
        "        optimizer.zero_grad()\n",
        "        out_cls, out_reg = model(raw_seqs, oh_tensor)\n",
        "        out_cls = out_cls.squeeze()\n",
        "        out_reg = out_reg.squeeze()\n",
        "        loss_cls = criterion_cls(out_cls, y_cls)\n",
        "        loss_reg = criterion_reg(out_reg, y_reg)\n",
        "        # Średnia ważona, co wazniejsze, jest problem z rozpoznawanie przez CNN\n",
        "        # klasyfikację binarną, ale oglnie może się przydać\n",
        "        loss = loss_cls + WEIGHT_MSE * loss_reg\n",
        "        loss.backward()\n",
        "        optimizer.step()\n",
        "        epoch_train_loss += loss.item()\n",
        "        pbar.set_postfix(loss=loss.item())\n",
        "\n",
        "    avg_train_loss = epoch_train_loss / len(train_loader)\n",
        "    train_losses.append(avg_train_loss)\n",
        "\n",
        "    # Walidacja\n",
        "    model.eval()\n",
        "    epoch_val_loss = 0\n",
        "    with torch.no_grad():\n",
        "        for batch in val_loader:\n",
        "            if batch is None:\n",
        "                continue\n",
        "            raw_seqs, oh_tensor, y_cls, y_reg = batch\n",
        "            oh_tensor, y_cls, y_reg = oh_tensor.to(DEVICE), y_cls.to(DEVICE), y_reg.to(DEVICE)\n",
        "            out_cls, out_reg = model(raw_seqs, oh_tensor)\n",
        "            out_cls = out_cls.squeeze()\n",
        "            out_reg = out_reg.squeeze()\n",
        "            val_loss_cls = criterion_cls(out_cls, y_cls)\n",
        "            val_loss_reg = criterion_reg(out_reg, y_reg)\n",
        "            loss_val = val_loss_cls + WEIGHT_MSE * val_loss_reg\n",
        "            epoch_val_loss += loss_val.item()\n",
        "    avg_val_loss = epoch_val_loss / len(val_loader)\n",
        "    val_losses.append(avg_val_loss)\n",
        "\n",
        "    scheduler.step(avg_val_loss)\n",
        "    print(f\"Epoch {epoch+1}: Train Loss = {avg_train_loss:.4f}, Val Loss = {avg_val_loss:.4f}\")\n",
        "\n",
        "    # Early stopping check\n",
        "    if avg_val_loss < best_val_loss:\n",
        "        best_val_loss = avg_val_loss\n",
        "        best_model = copy.deepcopy(model)\n",
        "        trigger_times = 0\n",
        "    else:\n",
        "        trigger_times += 1\n",
        "        if trigger_times >= PATIENCE:\n",
        "            print(\"Early stopping triggered!\")\n",
        "            break"
      ],
      "metadata": {
        "colab": {
          "base_uri": "https://localhost:8080/",
          "height": 301,
          "referenced_widgets": [
            "c1492b69e97b4036851874e69a497620",
            "96e9268b18c143669e5ceaa10eaabe15",
            "f3de1c4eed644fce96a4e2a525661bcb",
            "4b66652dfc434b10890443539ae34345",
            "8e258ae93a0f46b491e25685a2df2c65",
            "87600685cc1f497888e5674996a85a1a",
            "541cbd1c562944a0b2439790c276f4bb",
            "22af420dc40f46259df228bacb29ff4f",
            "324fe548b2c649b3a947605cac4719c3",
            "012cca13216043b088be53b023685a3f",
            "cec87898dc224d779b2d197e886ff173"
          ]
        },
        "id": "V5C8kQd1haAS",
        "outputId": "17bbf89f-94e9-45ac-9df8-fc519971fcee"
      },
      "execution_count": 112,
      "outputs": [
        {
          "output_type": "display_data",
          "data": {
            "text/plain": [
              "Epoch 1:   0%|          | 0/584 [00:00<?, ?it/s]"
            ],
            "application/vnd.jupyter.widget-view+json": {
              "version_major": 2,
              "version_minor": 0,
              "model_id": "c1492b69e97b4036851874e69a497620"
            }
          },
          "metadata": {}
        },
        {
          "output_type": "error",
          "ename": "RuntimeError",
          "evalue": "CUDA error: device-side assert triggered\nCUDA kernel errors might be asynchronously reported at some other API call, so the stacktrace below might be incorrect.\nFor debugging consider passing CUDA_LAUNCH_BLOCKING=1\nCompile with `TORCH_USE_CUDA_DSA` to enable device-side assertions.\n",
          "traceback": [
            "\u001b[0;31m---------------------------------------------------------------------------\u001b[0m",
            "\u001b[0;31mRuntimeError\u001b[0m                              Traceback (most recent call last)",
            "\u001b[0;32m<ipython-input-112-5814c057d40a>\u001b[0m in \u001b[0;36m<cell line: 0>\u001b[0;34m()\u001b[0m\n\u001b[1;32m     20\u001b[0m         \u001b[0mloss\u001b[0m\u001b[0;34m.\u001b[0m\u001b[0mbackward\u001b[0m\u001b[0;34m(\u001b[0m\u001b[0;34m)\u001b[0m\u001b[0;34m\u001b[0m\u001b[0;34m\u001b[0m\u001b[0m\n\u001b[1;32m     21\u001b[0m         \u001b[0moptimizer\u001b[0m\u001b[0;34m.\u001b[0m\u001b[0mstep\u001b[0m\u001b[0;34m(\u001b[0m\u001b[0;34m)\u001b[0m\u001b[0;34m\u001b[0m\u001b[0;34m\u001b[0m\u001b[0m\n\u001b[0;32m---> 22\u001b[0;31m         \u001b[0mepoch_train_loss\u001b[0m \u001b[0;34m+=\u001b[0m \u001b[0mloss\u001b[0m\u001b[0;34m.\u001b[0m\u001b[0mitem\u001b[0m\u001b[0;34m(\u001b[0m\u001b[0;34m)\u001b[0m\u001b[0;34m\u001b[0m\u001b[0;34m\u001b[0m\u001b[0m\n\u001b[0m\u001b[1;32m     23\u001b[0m         \u001b[0mpbar\u001b[0m\u001b[0;34m.\u001b[0m\u001b[0mset_postfix\u001b[0m\u001b[0;34m(\u001b[0m\u001b[0mloss\u001b[0m\u001b[0;34m=\u001b[0m\u001b[0mloss\u001b[0m\u001b[0;34m.\u001b[0m\u001b[0mitem\u001b[0m\u001b[0;34m(\u001b[0m\u001b[0;34m)\u001b[0m\u001b[0;34m)\u001b[0m\u001b[0;34m\u001b[0m\u001b[0;34m\u001b[0m\u001b[0m\n\u001b[1;32m     24\u001b[0m \u001b[0;34m\u001b[0m\u001b[0m\n",
            "\u001b[0;31mRuntimeError\u001b[0m: CUDA error: device-side assert triggered\nCUDA kernel errors might be asynchronously reported at some other API call, so the stacktrace below might be incorrect.\nFor debugging consider passing CUDA_LAUNCH_BLOCKING=1\nCompile with `TORCH_USE_CUDA_DSA` to enable device-side assertions.\n"
          ]
        }
      ]
    },
    {
      "cell_type": "code",
      "source": [
        "plt.figure(figsize=(10,5))\n",
        "plt.plot(train_losses, label='Training Loss')\n",
        "plt.plot(val_losses, label='Validation Loss')\n",
        "plt.xlabel('Epoch')\n",
        "plt.ylabel('Loss')\n",
        "plt.title('Training and Validation Loss')\n",
        "plt.legend()\n",
        "plt.grid(True)\n",
        "plt.show()\n"
      ],
      "metadata": {
        "colab": {
          "base_uri": "https://localhost:8080/",
          "height": 487
        },
        "id": "ZSREsJJvnM2D",
        "outputId": "c632bed7-e53e-4ae7-d484-253a2f58a2be"
      },
      "execution_count": 57,
      "outputs": [
        {
          "output_type": "display_data",
          "data": {
            "text/plain": [
              "<Figure size 1000x500 with 1 Axes>"
            ],
            "image/png": "[encoded data removed]"
          },
          "metadata": {}
        }
      ]
    },
    {
      "cell_type": "code",
      "source": [
        "def evaluate(model, loader):\n",
        "    model.eval()\n",
        "    y_true_cls, y_pred_cls = [], []\n",
        "    y_true_reg, y_pred_reg = [], []\n",
        "\n",
        "    with torch.no_grad():\n",
        "        for batch in loader:\n",
        "            if batch is None:\n",
        "                continue\n",
        "            raw_seqs, oh_tensor, y_cls, y_reg = batch\n",
        "            oh_tensor, y_cls, y_reg = oh_tensor.to(DEVICE), y_cls.to(DEVICE), y_reg.to(DEVICE)\n",
        "            preds_cls, preds_reg = model(raw_seqs, oh_tensor)\n",
        "\n",
        "            # F1 score\n",
        "            preds_cls = (preds_cls.squeeze().cpu().numpy() > 0.5).astype(int)\n",
        "            y_pred_cls.extend(preds_cls.tolist())\n",
        "            y_true_cls.extend(y_cls.cpu().numpy().tolist())\n",
        "\n",
        "            # Mean Square Error (MSE)\n",
        "            y_pred_reg.extend(preds_reg.squeeze().cpu().numpy().tolist())\n",
        "            y_true_reg.extend(y_reg.cpu().numpy().tolist())\n",
        "\n",
        "    f1 = f1_score(y_true_cls, y_pred_cls)\n",
        "    # mse = mean_squared_error(y_true_reg, y_pred_reg)\n",
        "    r2 = r2_score(y_true_reg, y_pred_reg)\n",
        "\n",
        "    return f1, r2\n",
        "\n",
        "val_f1, val_r2 = evaluate(best_model, val_loader)\n",
        "print(f\"Validation F1 Score: {val_f1:.3f}\")\n",
        "print(f\"Validation R2: {val_r2:.3f}\")"
      ],
      "metadata": {
        "colab": {
          "base_uri": "https://localhost:8080/"
        },
        "id": "akBO0DXVnWAY",
        "outputId": "f012fbe2-f99a-4ca8-a72b-9edfb86025c0"
      },
      "execution_count": 58,
      "outputs": [
        {
          "output_type": "stream",
          "name": "stdout",
          "text": [
            "Validation F1 Score: 0.678\n",
            "Validation R2: 0.180\n"
          ]
        }
      ]
    },
    {
      "cell_type": "code",
      "source": [
        "torch.save(best_model.state_dict(), \"/content/best_model.model\")\n",
        "\n",
        "# BEST MODEL ==> Chcemy F1 > 0.9 & R2 > 0.9\n",
        "# Validation F1 Score: 0.702\n",
        "# Validation R2: 0.210\n"
      ],
      "metadata": {
        "id": "EU6OUCNVoPIt"
      },
      "execution_count": 59,
      "outputs": []
    }
  ]
}